{
 "cells": [
  {
   "cell_type": "markdown",
   "metadata": {},
   "source": [
    "# Project 3\n",
    "\n",
    "In the coding project below, answer relevant questions on Canvas via the assigment named Programming Project 3 Quiz Questions.\n",
    "\n",
    "In the following exercise, we will perform linear regression to fit various data sets and to predict outputs. Perform the following analyses by starting a new notebook. \n",
    "\n",
    "In this assignment, we will be using PennGrader, a Python package built by a former TA for autograding Python notebooks. PennGrader was developed to provide students with instant feedback on their answer. You can submit your answer and know whether it's right or wrong instantly. We then record your most recent answer in our backend database. You will have 100 attempts per test case, which should be more than sufficient.\n",
    "\n",
    "<b>NOTE：Please remember to remove the </b>\n",
    "\n",
    "```python\n",
    "raise notImplementedError\n",
    "```\n",
    "<b>after your implementation, otherwise the cell will not compile.</b>"
   ]
  },
  {
   "cell_type": "markdown",
   "metadata": {},
   "source": [
    "## Getting Setup\n",
    "Please run the below cells to get setup with the autograder. If you need to install packages, please uncomment and try the following lines; if they do not work, please try running them in the terminal without the `!` sign! (e.g. `pip install sklearn --user`"
   ]
  },
  {
   "cell_type": "code",
   "execution_count": 1,
   "metadata": {},
   "outputs": [],
   "source": [
    "%%capture\n",
    "!pip install penngrader --user"
   ]
  },
  {
   "cell_type": "code",
   "execution_count": 2,
   "metadata": {},
   "outputs": [],
   "source": [
    "# !pip install seaborn --user\n",
    "# !pip install sklearn --user\n",
    "# !pip install statsmodels --user"
   ]
  },
  {
   "cell_type": "markdown",
   "metadata": {},
   "source": [
    "Let's try PennGrader out! Fill in the cell below with your PennID and then run the following cell to initialize the grader.\n",
    "\n",
    "<font color='red'>Warning:</font> Please make sure you only have one copy of the student notebook in your directory in Codio upon submission. The autograder looks for the variable `STUDENT_ID` across all notebooks, so if there is a duplicate notebook, it will fail."
   ]
  },
  {
   "cell_type": "code",
   "execution_count": 3,
   "metadata": {},
   "outputs": [],
   "source": [
    "#PLEASE ENSURE YOUR STUDENT_ID IS ENTERED AS AN INT (NOT A STRING). IF NOT, THE AUTOGRADER WON'T KNOW WHO \n",
    "#TO ASSIGN POINTS TO YOU IN OUR BACKEND\n",
    "\n",
    "STUDENT_ID = 56803282                   # YOUR 8-DIGIT PENNID GOES HERE\n",
    "STUDENT_NAME = \"Jacky Choi\"     # YOUR FULL NAME GOES HERE"
   ]
  },
  {
   "cell_type": "code",
   "execution_count": 4,
   "metadata": {},
   "outputs": [],
   "source": [
    "import penngrader.grader\n",
    "\n",
    "grader = penngrader.grader.PennGrader(homework_id = 'ESE542_Online_Su_2021_HW3', student_id = STUDENT_ID)"
   ]
  },
  {
   "cell_type": "code",
   "execution_count": 5,
   "metadata": {},
   "outputs": [],
   "source": [
    "# Let's import the relevant Python packages here\n",
    "# Feel free to import any other packages for this project\n",
    "\n",
    "# Data Wrangling\n",
    "import pandas as pd\n",
    "import numpy as np\n",
    "import math\n",
    "\n",
    "# ML\n",
    "from sklearn.linear_model import LinearRegression\n",
    "from sklearn.preprocessing import PolynomialFeatures\n",
    "\n",
    "# Statistics\n",
    "import statsmodels.formula.api as smf\n",
    "import statsmodels.api as sm\n",
    "\n",
    "# Evaluation Metrics\n",
    "from sklearn.metrics import mean_squared_error\n",
    "\n",
    "# Plotting\n",
    "import matplotlib.pyplot as plt\n",
    "blue = '#008FD5'\n",
    "red = '#FF2700'\n",
    "green = '#77AB43'\n",
    "\n",
    "%matplotlib inline"
   ]
  },
  {
   "cell_type": "markdown",
   "metadata": {},
   "source": [
    "## Data Leakage"
   ]
  },
  {
   "cell_type": "markdown",
   "metadata": {},
   "source": [
    "A very important (read: **the most important** topic) in practical data science scenarios is that of data leakage. Data leakage is a situation that occurs when the creator of a machine learning model allows the model to read both training data and test data to train the model. In Programming Project 3, the training data and the test data are separated for you already. Thus, the linear regression model should only be trained with the training data. Predictions can be made on either the training data or the test data. In the upcoming weeks, we will explore why you shouldn't train the model with the test data as well and what methods we can employ to choose the training set and the test set."
   ]
  },
  {
   "cell_type": "markdown",
   "metadata": {},
   "source": [
    "## Part A\n",
    "\n",
    "First, we will use the `Ch3PartA` dataset to generate polynomial regressions using `scikit-learn`.\n",
    "This dataset contains 100 observations of points $x$ and their corresponding response, $y$. The data\n",
    "is divided into a training set $(x_{tr}, y_{tr})$ and a test set $(x_{te}, y_{te})$, and all the values are doubles.\n",
    "\n",
    "### A1.\n",
    "\n",
    "To start, load `Ch3PartA.csv` into your notebook."
   ]
  },
  {
   "cell_type": "code",
   "execution_count": 6,
   "metadata": {},
   "outputs": [
    {
     "data": {
      "text/html": [
       "<div>\n",
       "<style scoped>\n",
       "    .dataframe tbody tr th:only-of-type {\n",
       "        vertical-align: middle;\n",
       "    }\n",
       "\n",
       "    .dataframe tbody tr th {\n",
       "        vertical-align: top;\n",
       "    }\n",
       "\n",
       "    .dataframe thead th {\n",
       "        text-align: right;\n",
       "    }\n",
       "</style>\n",
       "<table border=\"1\" class=\"dataframe\">\n",
       "  <thead>\n",
       "    <tr style=\"text-align: right;\">\n",
       "      <th></th>\n",
       "      <th>x_tr</th>\n",
       "      <th>y_tr</th>\n",
       "      <th>x_te</th>\n",
       "      <th>y_te</th>\n",
       "    </tr>\n",
       "  </thead>\n",
       "  <tbody>\n",
       "    <tr>\n",
       "      <th>0</th>\n",
       "      <td>0.249973</td>\n",
       "      <td>-0.225565</td>\n",
       "      <td>0.006047</td>\n",
       "      <td>0.043946</td>\n",
       "    </tr>\n",
       "    <tr>\n",
       "      <th>1</th>\n",
       "      <td>0.073364</td>\n",
       "      <td>0.435610</td>\n",
       "      <td>0.483860</td>\n",
       "      <td>-0.066113</td>\n",
       "    </tr>\n",
       "    <tr>\n",
       "      <th>2</th>\n",
       "      <td>0.663146</td>\n",
       "      <td>0.507205</td>\n",
       "      <td>0.123247</td>\n",
       "      <td>0.859564</td>\n",
       "    </tr>\n",
       "    <tr>\n",
       "      <th>3</th>\n",
       "      <td>0.595366</td>\n",
       "      <td>0.059467</td>\n",
       "      <td>0.307679</td>\n",
       "      <td>-0.305032</td>\n",
       "    </tr>\n",
       "    <tr>\n",
       "      <th>4</th>\n",
       "      <td>0.415146</td>\n",
       "      <td>-0.035114</td>\n",
       "      <td>0.926060</td>\n",
       "      <td>-0.472700</td>\n",
       "    </tr>\n",
       "    <tr>\n",
       "      <th>...</th>\n",
       "      <td>...</td>\n",
       "      <td>...</td>\n",
       "      <td>...</td>\n",
       "      <td>...</td>\n",
       "    </tr>\n",
       "    <tr>\n",
       "      <th>95</th>\n",
       "      <td>0.320401</td>\n",
       "      <td>-0.488202</td>\n",
       "      <td>0.897397</td>\n",
       "      <td>-0.735587</td>\n",
       "    </tr>\n",
       "    <tr>\n",
       "      <th>96</th>\n",
       "      <td>0.164287</td>\n",
       "      <td>0.251095</td>\n",
       "      <td>0.119381</td>\n",
       "      <td>0.865596</td>\n",
       "    </tr>\n",
       "    <tr>\n",
       "      <th>97</th>\n",
       "      <td>0.783161</td>\n",
       "      <td>-0.291251</td>\n",
       "      <td>0.327843</td>\n",
       "      <td>-0.391891</td>\n",
       "    </tr>\n",
       "    <tr>\n",
       "      <th>98</th>\n",
       "      <td>0.122498</td>\n",
       "      <td>0.403176</td>\n",
       "      <td>0.815745</td>\n",
       "      <td>-0.400014</td>\n",
       "    </tr>\n",
       "    <tr>\n",
       "      <th>99</th>\n",
       "      <td>0.634907</td>\n",
       "      <td>0.523561</td>\n",
       "      <td>0.597312</td>\n",
       "      <td>-0.027795</td>\n",
       "    </tr>\n",
       "  </tbody>\n",
       "</table>\n",
       "<p>100 rows × 4 columns</p>\n",
       "</div>"
      ],
      "text/plain": [
       "        x_tr      y_tr      x_te      y_te\n",
       "0   0.249973 -0.225565  0.006047  0.043946\n",
       "1   0.073364  0.435610  0.483860 -0.066113\n",
       "2   0.663146  0.507205  0.123247  0.859564\n",
       "3   0.595366  0.059467  0.307679 -0.305032\n",
       "4   0.415146 -0.035114  0.926060 -0.472700\n",
       "..       ...       ...       ...       ...\n",
       "95  0.320401 -0.488202  0.897397 -0.735587\n",
       "96  0.164287  0.251095  0.119381  0.865596\n",
       "97  0.783161 -0.291251  0.327843 -0.391891\n",
       "98  0.122498  0.403176  0.815745 -0.400014\n",
       "99  0.634907  0.523561  0.597312 -0.027795\n",
       "\n",
       "[100 rows x 4 columns]"
      ]
     },
     "execution_count": 6,
     "metadata": {},
     "output_type": "execute_result"
    }
   ],
   "source": [
    "data = pd.read_csv(\"Ch3PartA.csv\")\n",
    "data2 = data.copy() #just for fun\n",
    "data"
   ]
  },
  {
   "cell_type": "markdown",
   "metadata": {},
   "source": [
    "### A2.\n",
    "\n",
    "Create a scatter plot of: \n",
    "\n",
    "(a) `y_tr` against `x_tr` and another of \n",
    "\n",
    "(b) `y_te` against `x_te`. \n",
    "\n",
    "\n",
    "Then, observe and comment on the similarities and differences between the plots."
   ]
  },
  {
   "cell_type": "code",
   "execution_count": 7,
   "metadata": {},
   "outputs": [
    {
     "data": {
      "text/html": [
       "<table class=\"simpletable\">\n",
       "<caption>OLS Regression Results</caption>\n",
       "<tr>\n",
       "  <th>Dep. Variable:</th>          <td>x_tr</td>       <th>  R-squared (uncentered):</th>      <td>   0.117</td>\n",
       "</tr>\n",
       "<tr>\n",
       "  <th>Model:</th>                   <td>OLS</td>       <th>  Adj. R-squared (uncentered):</th> <td>   0.108</td>\n",
       "</tr>\n",
       "<tr>\n",
       "  <th>Method:</th>             <td>Least Squares</td>  <th>  F-statistic:       </th>          <td>   13.12</td>\n",
       "</tr>\n",
       "<tr>\n",
       "  <th>Date:</th>             <td>Sat, 21 Sep 2024</td> <th>  Prob (F-statistic):</th>          <td>0.000463</td>\n",
       "</tr>\n",
       "<tr>\n",
       "  <th>Time:</th>                 <td>17:10:45</td>     <th>  Log-Likelihood:    </th>          <td> -75.154</td>\n",
       "</tr>\n",
       "<tr>\n",
       "  <th>No. Observations:</th>      <td>   100</td>      <th>  AIC:               </th>          <td>   152.3</td>\n",
       "</tr>\n",
       "<tr>\n",
       "  <th>Df Residuals:</th>          <td>    99</td>      <th>  BIC:               </th>          <td>   154.9</td>\n",
       "</tr>\n",
       "<tr>\n",
       "  <th>Df Model:</th>              <td>     1</td>      <th>                     </th>              <td> </td>   \n",
       "</tr>\n",
       "<tr>\n",
       "  <th>Covariance Type:</th>      <td>nonrobust</td>    <th>                     </th>              <td> </td>   \n",
       "</tr>\n",
       "</table>\n",
       "<table class=\"simpletable\">\n",
       "<tr>\n",
       "    <td></td>      <th>coef</th>     <th>std err</th>      <th>t</th>      <th>P>|t|</th>  <th>[0.025</th>    <th>0.975]</th>  \n",
       "</tr>\n",
       "<tr>\n",
       "  <th>y_tr</th> <td>   -0.4524</td> <td>    0.125</td> <td>   -3.622</td> <td> 0.000</td> <td>   -0.700</td> <td>   -0.205</td>\n",
       "</tr>\n",
       "</table>\n",
       "<table class=\"simpletable\">\n",
       "<tr>\n",
       "  <th>Omnibus:</th>       <td> 4.046</td> <th>  Durbin-Watson:     </th> <td>   0.443</td>\n",
       "</tr>\n",
       "<tr>\n",
       "  <th>Prob(Omnibus):</th> <td> 0.132</td> <th>  Jarque-Bera (JB):  </th> <td>   3.664</td>\n",
       "</tr>\n",
       "<tr>\n",
       "  <th>Skew:</th>          <td> 0.391</td> <th>  Prob(JB):          </th> <td>   0.160</td>\n",
       "</tr>\n",
       "<tr>\n",
       "  <th>Kurtosis:</th>      <td> 2.481</td> <th>  Cond. No.          </th> <td>    1.00</td>\n",
       "</tr>\n",
       "</table><br/><br/>Notes:<br/>[1] R² is computed without centering (uncentered) since the model does not contain a constant.<br/>[2] Standard Errors assume that the covariance matrix of the errors is correctly specified."
      ],
      "text/plain": [
       "<class 'statsmodels.iolib.summary.Summary'>\n",
       "\"\"\"\n",
       "                                 OLS Regression Results                                \n",
       "=======================================================================================\n",
       "Dep. Variable:                   x_tr   R-squared (uncentered):                   0.117\n",
       "Model:                            OLS   Adj. R-squared (uncentered):              0.108\n",
       "Method:                 Least Squares   F-statistic:                              13.12\n",
       "Date:                Sat, 21 Sep 2024   Prob (F-statistic):                    0.000463\n",
       "Time:                        17:10:45   Log-Likelihood:                         -75.154\n",
       "No. Observations:                 100   AIC:                                      152.3\n",
       "Df Residuals:                      99   BIC:                                      154.9\n",
       "Df Model:                           1                                                  \n",
       "Covariance Type:            nonrobust                                                  \n",
       "==============================================================================\n",
       "                 coef    std err          t      P>|t|      [0.025      0.975]\n",
       "------------------------------------------------------------------------------\n",
       "y_tr          -0.4524      0.125     -3.622      0.000      -0.700      -0.205\n",
       "==============================================================================\n",
       "Omnibus:                        4.046   Durbin-Watson:                   0.443\n",
       "Prob(Omnibus):                  0.132   Jarque-Bera (JB):                3.664\n",
       "Skew:                           0.391   Prob(JB):                        0.160\n",
       "Kurtosis:                       2.481   Cond. No.                         1.00\n",
       "==============================================================================\n",
       "\n",
       "Notes:\n",
       "[1] R² is computed without centering (uncentered) since the model does not contain a constant.\n",
       "[2] Standard Errors assume that the covariance matrix of the errors is correctly specified.\n",
       "\"\"\""
      ]
     },
     "execution_count": 7,
     "metadata": {},
     "output_type": "execute_result"
    },
    {
     "data": {
      "image/png": "[encoded data removed]",
      "text/plain": [
       "<Figure size 432x288 with 1 Axes>"
      ]
     },
     "metadata": {
      "needs_background": "light"
     },
     "output_type": "display_data"
    }
   ],
   "source": [
    "plt.plot(data['x_tr'], data['y_tr'], 'o', color = red)\n",
    "model = sm.OLS(data[['x_tr']], data[['y_tr']])\n",
    "model = model.fit()\n",
    "model.summary()"
   ]
  },
  {
   "cell_type": "code",
   "execution_count": 8,
   "metadata": {},
   "outputs": [
    {
     "data": {
      "text/plain": [
       "[<matplotlib.lines.Line2D at 0x7ec89b5939e8>]"
      ]
     },
     "execution_count": 8,
     "metadata": {},
     "output_type": "execute_result"
    },
    {
     "data": {
      "image/png": "[encoded data removed]",
      "text/plain": [
       "<Figure size 432x288 with 1 Axes>"
      ]
     },
     "metadata": {
      "needs_background": "light"
     },
     "output_type": "display_data"
    }
   ],
   "source": [
    "plt.plot(data['x_te'], data['y_te'], 'o', color = blue)"
   ]
  },
  {
   "cell_type": "markdown",
   "metadata": {},
   "source": [
    "What is the maximum value of `y` in the training set and in the test set? Please store these variables as `max_y_train` and `max_y_test` below and run the first grader cell! \n",
    "\n",
    "If you get 1 point, it means that you got both right. If you receive 0.5 points, you had only one right, and if you receive 0.25 points, then you correctly entered a tuple but both values were incorrect."
   ]
  },
  {
   "cell_type": "code",
   "execution_count": 9,
   "metadata": {},
   "outputs": [],
   "source": [
    "#dataframe['column_name'].max()"
   ]
  },
  {
   "cell_type": "code",
   "execution_count": 10,
   "metadata": {},
   "outputs": [],
   "source": [
    "max_y_train = data['y_tr'].max()\n",
    "max_y_test = data['y_te'].max()"
   ]
  },
  {
   "cell_type": "code",
   "execution_count": 11,
   "metadata": {},
   "outputs": [
    {
     "name": "stdout",
     "output_type": "stream",
     "text": [
      "0.95500282089616 0.8655959436070828\n"
     ]
    }
   ],
   "source": [
    "# View the results here before you submit\n",
    "print(max_y_train, max_y_test)"
   ]
  },
  {
   "cell_type": "code",
   "execution_count": 12,
   "metadata": {},
   "outputs": [
    {
     "name": "stdout",
     "output_type": "stream",
     "text": [
      "Correct! You earned 1.0/1 points. You are a star!\n",
      "\n",
      "Your submission has been successfully recorded in the gradebook.\n"
     ]
    }
   ],
   "source": [
    "grader.grade(test_case_id = 'test_y_train_test', answer = (max_y_train, max_y_test))"
   ]
  },
  {
   "cell_type": "markdown",
   "metadata": {},
   "source": [
    "Now, comment on the plot differences below. Please record your response into the multiline string named `plot_diffs_string` and then submit it to us via the grader cell!"
   ]
  },
  {
   "cell_type": "code",
   "execution_count": 13,
   "metadata": {},
   "outputs": [],
   "source": [
    "plot_diffs_string = '''\n",
    "The training set has more spread out data points than the test set with a much higher max value of 0.96 compared to 0.87 if rounded to 2 decimal points.\n",
    "'''\n"
   ]
  },
  {
   "cell_type": "code",
   "execution_count": 14,
   "metadata": {},
   "outputs": [
    {
     "name": "stdout",
     "output_type": "stream",
     "text": [
      "Correct! You earned 1/1 points. You are a star!\n",
      "\n",
      "Your submission has been successfully recorded in the gradebook.\n"
     ]
    }
   ],
   "source": [
    "grader.grade(test_case_id = 'test_plot_diff_test', answer = plot_diffs_string)"
   ]
  },
  {
   "cell_type": "markdown",
   "metadata": {},
   "source": [
    "### A3. \n",
    "Generate the necessary features to fit polynomial regressions up to the 20th degree (up to and including the $x_{20}$ term) on the training data. Hint: You will be fitting multi-variate linear regression models with polynomial features of $x$. Familiarize yourself with `sklearn.preprocessing.PolynomialFeatures`. \n",
    "\n",
    "Here, we're just asking you to practice generating the features. You'll pass one of them into the autograder for a quick check (although the autograder will not be very strict, so if you end up failing the next test case definitely make sure your work here is correct!)"
   ]
  },
  {
   "cell_type": "code",
   "execution_count": 15,
   "metadata": {},
   "outputs": [],
   "source": [
    "x_train = data[['x_tr']]\n",
    "poly = PolynomialFeatures(degree=20)\n",
    "x_train = poly.fit_transform(x_train)"
   ]
  },
  {
   "cell_type": "markdown",
   "metadata": {},
   "source": [
    "Now, let's check to make sure your highest-degree polynomial features are correct; namely the set of features that includes $x_{20}$, or `PolynomialFeatures(degree = 20)`. Please set `polynomial_features_df` as this **dataframe**.\n",
    "\n",
    "If you do not receive full points, that means that either you have the wrong number of columns or some column values aren't correct!"
   ]
  },
  {
   "cell_type": "code",
   "execution_count": 16,
   "metadata": {},
   "outputs": [
    {
     "data": {
      "text/html": [
       "<div>\n",
       "<style scoped>\n",
       "    .dataframe tbody tr th:only-of-type {\n",
       "        vertical-align: middle;\n",
       "    }\n",
       "\n",
       "    .dataframe tbody tr th {\n",
       "        vertical-align: top;\n",
       "    }\n",
       "\n",
       "    .dataframe thead th {\n",
       "        text-align: right;\n",
       "    }\n",
       "</style>\n",
       "<table border=\"1\" class=\"dataframe\">\n",
       "  <thead>\n",
       "    <tr style=\"text-align: right;\">\n",
       "      <th></th>\n",
       "      <th>0</th>\n",
       "      <th>1</th>\n",
       "      <th>2</th>\n",
       "      <th>3</th>\n",
       "      <th>4</th>\n",
       "      <th>5</th>\n",
       "      <th>6</th>\n",
       "      <th>7</th>\n",
       "      <th>8</th>\n",
       "      <th>9</th>\n",
       "      <th>...</th>\n",
       "      <th>11</th>\n",
       "      <th>12</th>\n",
       "      <th>13</th>\n",
       "      <th>14</th>\n",
       "      <th>15</th>\n",
       "      <th>16</th>\n",
       "      <th>17</th>\n",
       "      <th>18</th>\n",
       "      <th>19</th>\n",
       "      <th>20</th>\n",
       "    </tr>\n",
       "  </thead>\n",
       "  <tbody>\n",
       "    <tr>\n",
       "      <th>0</th>\n",
       "      <td>1.0</td>\n",
       "      <td>0.249973</td>\n",
       "      <td>0.062486</td>\n",
       "      <td>0.015620</td>\n",
       "      <td>0.003905</td>\n",
       "      <td>0.000976</td>\n",
       "      <td>2.439818e-04</td>\n",
       "      <td>6.098884e-05</td>\n",
       "      <td>1.524556e-05</td>\n",
       "      <td>3.810976e-06</td>\n",
       "      <td>...</td>\n",
       "      <td>2.381343e-07</td>\n",
       "      <td>5.952713e-08</td>\n",
       "      <td>1.488017e-08</td>\n",
       "      <td>3.719639e-09</td>\n",
       "      <td>9.298089e-10</td>\n",
       "      <td>2.324270e-10</td>\n",
       "      <td>5.810045e-11</td>\n",
       "      <td>1.452354e-11</td>\n",
       "      <td>3.630491e-12</td>\n",
       "      <td>9.075243e-13</td>\n",
       "    </tr>\n",
       "    <tr>\n",
       "      <th>1</th>\n",
       "      <td>1.0</td>\n",
       "      <td>0.073364</td>\n",
       "      <td>0.005382</td>\n",
       "      <td>0.000395</td>\n",
       "      <td>0.000029</td>\n",
       "      <td>0.000002</td>\n",
       "      <td>1.559195e-07</td>\n",
       "      <td>1.143889e-08</td>\n",
       "      <td>8.392034e-10</td>\n",
       "      <td>6.156737e-11</td>\n",
       "      <td>...</td>\n",
       "      <td>3.313732e-13</td>\n",
       "      <td>2.431089e-14</td>\n",
       "      <td>1.783546e-15</td>\n",
       "      <td>1.308482e-16</td>\n",
       "      <td>9.599553e-18</td>\n",
       "      <td>7.042623e-19</td>\n",
       "      <td>5.166754e-20</td>\n",
       "      <td>3.790541e-21</td>\n",
       "      <td>2.780895e-22</td>\n",
       "      <td>2.040178e-23</td>\n",
       "    </tr>\n",
       "    <tr>\n",
       "      <th>2</th>\n",
       "      <td>1.0</td>\n",
       "      <td>0.663146</td>\n",
       "      <td>0.439763</td>\n",
       "      <td>0.291627</td>\n",
       "      <td>0.193391</td>\n",
       "      <td>0.128247</td>\n",
       "      <td>8.504639e-02</td>\n",
       "      <td>5.639820e-02</td>\n",
       "      <td>3.740025e-02</td>\n",
       "      <td>2.480184e-02</td>\n",
       "      <td>...</td>\n",
       "      <td>1.090693e-02</td>\n",
       "      <td>7.232889e-03</td>\n",
       "      <td>4.796463e-03</td>\n",
       "      <td>3.180757e-03</td>\n",
       "      <td>2.109307e-03</td>\n",
       "      <td>1.398779e-03</td>\n",
       "      <td>9.275950e-04</td>\n",
       "      <td>6.151311e-04</td>\n",
       "      <td>4.079219e-04</td>\n",
       "      <td>2.705119e-04</td>\n",
       "    </tr>\n",
       "    <tr>\n",
       "      <th>3</th>\n",
       "      <td>1.0</td>\n",
       "      <td>0.595366</td>\n",
       "      <td>0.354461</td>\n",
       "      <td>0.211034</td>\n",
       "      <td>0.125643</td>\n",
       "      <td>0.074803</td>\n",
       "      <td>4.453545e-02</td>\n",
       "      <td>2.651491e-02</td>\n",
       "      <td>1.578608e-02</td>\n",
       "      <td>9.398503e-03</td>\n",
       "      <td>...</td>\n",
       "      <td>3.331404e-03</td>\n",
       "      <td>1.983406e-03</td>\n",
       "      <td>1.180853e-03</td>\n",
       "      <td>7.030403e-04</td>\n",
       "      <td>4.185665e-04</td>\n",
       "      <td>2.492004e-04</td>\n",
       "      <td>1.483656e-04</td>\n",
       "      <td>8.833186e-05</td>\n",
       "      <td>5.258982e-05</td>\n",
       "      <td>3.131021e-05</td>\n",
       "    </tr>\n",
       "    <tr>\n",
       "      <th>4</th>\n",
       "      <td>1.0</td>\n",
       "      <td>0.415146</td>\n",
       "      <td>0.172346</td>\n",
       "      <td>0.071549</td>\n",
       "      <td>0.029703</td>\n",
       "      <td>0.012331</td>\n",
       "      <td>5.119210e-03</td>\n",
       "      <td>2.125218e-03</td>\n",
       "      <td>8.822750e-04</td>\n",
       "      <td>3.662726e-04</td>\n",
       "      <td>...</td>\n",
       "      <td>6.312559e-05</td>\n",
       "      <td>2.620631e-05</td>\n",
       "      <td>1.087944e-05</td>\n",
       "      <td>4.516551e-06</td>\n",
       "      <td>1.875027e-06</td>\n",
       "      <td>7.784092e-07</td>\n",
       "      <td>3.231532e-07</td>\n",
       "      <td>1.341556e-07</td>\n",
       "      <td>5.569413e-08</td>\n",
       "      <td>2.312118e-08</td>\n",
       "    </tr>\n",
       "    <tr>\n",
       "      <th>...</th>\n",
       "      <td>...</td>\n",
       "      <td>...</td>\n",
       "      <td>...</td>\n",
       "      <td>...</td>\n",
       "      <td>...</td>\n",
       "      <td>...</td>\n",
       "      <td>...</td>\n",
       "      <td>...</td>\n",
       "      <td>...</td>\n",
       "      <td>...</td>\n",
       "      <td>...</td>\n",
       "      <td>...</td>\n",
       "      <td>...</td>\n",
       "      <td>...</td>\n",
       "      <td>...</td>\n",
       "      <td>...</td>\n",
       "      <td>...</td>\n",
       "      <td>...</td>\n",
       "      <td>...</td>\n",
       "      <td>...</td>\n",
       "      <td>...</td>\n",
       "    </tr>\n",
       "    <tr>\n",
       "      <th>95</th>\n",
       "      <td>1.0</td>\n",
       "      <td>0.320401</td>\n",
       "      <td>0.102657</td>\n",
       "      <td>0.032891</td>\n",
       "      <td>0.010538</td>\n",
       "      <td>0.003377</td>\n",
       "      <td>1.081846e-03</td>\n",
       "      <td>3.466249e-04</td>\n",
       "      <td>1.110591e-04</td>\n",
       "      <td>3.558347e-05</td>\n",
       "      <td>...</td>\n",
       "      <td>3.652891e-06</td>\n",
       "      <td>1.170391e-06</td>\n",
       "      <td>3.749948e-07</td>\n",
       "      <td>1.201488e-07</td>\n",
       "      <td>3.849584e-08</td>\n",
       "      <td>1.233412e-08</td>\n",
       "      <td>3.951866e-09</td>\n",
       "      <td>1.266183e-09</td>\n",
       "      <td>4.056867e-10</td>\n",
       "      <td>1.299825e-10</td>\n",
       "    </tr>\n",
       "    <tr>\n",
       "      <th>96</th>\n",
       "      <td>1.0</td>\n",
       "      <td>0.164287</td>\n",
       "      <td>0.026990</td>\n",
       "      <td>0.004434</td>\n",
       "      <td>0.000728</td>\n",
       "      <td>0.000120</td>\n",
       "      <td>1.966150e-05</td>\n",
       "      <td>3.230126e-06</td>\n",
       "      <td>5.306672e-07</td>\n",
       "      <td>8.718165e-08</td>\n",
       "      <td>...</td>\n",
       "      <td>2.353047e-09</td>\n",
       "      <td>3.865747e-10</td>\n",
       "      <td>6.350914e-11</td>\n",
       "      <td>1.043372e-11</td>\n",
       "      <td>1.714122e-12</td>\n",
       "      <td>2.816077e-13</td>\n",
       "      <td>4.626444e-14</td>\n",
       "      <td>7.600639e-15</td>\n",
       "      <td>1.248685e-15</td>\n",
       "      <td>2.051425e-16</td>\n",
       "    </tr>\n",
       "    <tr>\n",
       "      <th>97</th>\n",
       "      <td>1.0</td>\n",
       "      <td>0.783161</td>\n",
       "      <td>0.613342</td>\n",
       "      <td>0.480346</td>\n",
       "      <td>0.376188</td>\n",
       "      <td>0.294616</td>\n",
       "      <td>2.307320e-01</td>\n",
       "      <td>1.807004e-01</td>\n",
       "      <td>1.415176e-01</td>\n",
       "      <td>1.108311e-01</td>\n",
       "      <td>...</td>\n",
       "      <td>6.797735e-02</td>\n",
       "      <td>5.323724e-02</td>\n",
       "      <td>4.169335e-02</td>\n",
       "      <td>3.265262e-02</td>\n",
       "      <td>2.557228e-02</td>\n",
       "      <td>2.002722e-02</td>\n",
       "      <td>1.568455e-02</td>\n",
       "      <td>1.228353e-02</td>\n",
       "      <td>9.619988e-03</td>\n",
       "      <td>7.534004e-03</td>\n",
       "    </tr>\n",
       "    <tr>\n",
       "      <th>98</th>\n",
       "      <td>1.0</td>\n",
       "      <td>0.122498</td>\n",
       "      <td>0.015006</td>\n",
       "      <td>0.001838</td>\n",
       "      <td>0.000225</td>\n",
       "      <td>0.000028</td>\n",
       "      <td>3.378867e-06</td>\n",
       "      <td>4.139039e-07</td>\n",
       "      <td>5.070235e-08</td>\n",
       "      <td>6.210929e-09</td>\n",
       "      <td>...</td>\n",
       "      <td>9.319950e-11</td>\n",
       "      <td>1.141674e-11</td>\n",
       "      <td>1.398526e-12</td>\n",
       "      <td>1.713165e-13</td>\n",
       "      <td>2.098590e-14</td>\n",
       "      <td>2.570728e-15</td>\n",
       "      <td>3.149087e-16</td>\n",
       "      <td>3.857564e-17</td>\n",
       "      <td>4.725434e-18</td>\n",
       "      <td>5.788555e-19</td>\n",
       "    </tr>\n",
       "    <tr>\n",
       "      <th>99</th>\n",
       "      <td>1.0</td>\n",
       "      <td>0.634907</td>\n",
       "      <td>0.403106</td>\n",
       "      <td>0.255935</td>\n",
       "      <td>0.162495</td>\n",
       "      <td>0.103169</td>\n",
       "      <td>6.550271e-02</td>\n",
       "      <td>4.158811e-02</td>\n",
       "      <td>2.640457e-02</td>\n",
       "      <td>1.676444e-02</td>\n",
       "      <td>...</td>\n",
       "      <td>6.757852e-03</td>\n",
       "      <td>4.290606e-03</td>\n",
       "      <td>2.724134e-03</td>\n",
       "      <td>1.729571e-03</td>\n",
       "      <td>1.098116e-03</td>\n",
       "      <td>6.972012e-04</td>\n",
       "      <td>4.426577e-04</td>\n",
       "      <td>2.810463e-04</td>\n",
       "      <td>1.784382e-04</td>\n",
       "      <td>1.132916e-04</td>\n",
       "    </tr>\n",
       "  </tbody>\n",
       "</table>\n",
       "<p>100 rows × 21 columns</p>\n",
       "</div>"
      ],
      "text/plain": [
       "     0         1         2         3         4         5             6   \\\n",
       "0   1.0  0.249973  0.062486  0.015620  0.003905  0.000976  2.439818e-04   \n",
       "1   1.0  0.073364  0.005382  0.000395  0.000029  0.000002  1.559195e-07   \n",
       "2   1.0  0.663146  0.439763  0.291627  0.193391  0.128247  8.504639e-02   \n",
       "3   1.0  0.595366  0.354461  0.211034  0.125643  0.074803  4.453545e-02   \n",
       "4   1.0  0.415146  0.172346  0.071549  0.029703  0.012331  5.119210e-03   \n",
       "..  ...       ...       ...       ...       ...       ...           ...   \n",
       "95  1.0  0.320401  0.102657  0.032891  0.010538  0.003377  1.081846e-03   \n",
       "96  1.0  0.164287  0.026990  0.004434  0.000728  0.000120  1.966150e-05   \n",
       "97  1.0  0.783161  0.613342  0.480346  0.376188  0.294616  2.307320e-01   \n",
       "98  1.0  0.122498  0.015006  0.001838  0.000225  0.000028  3.378867e-06   \n",
       "99  1.0  0.634907  0.403106  0.255935  0.162495  0.103169  6.550271e-02   \n",
       "\n",
       "              7             8             9   ...            11            12  \\\n",
       "0   6.098884e-05  1.524556e-05  3.810976e-06  ...  2.381343e-07  5.952713e-08   \n",
       "1   1.143889e-08  8.392034e-10  6.156737e-11  ...  3.313732e-13  2.431089e-14   \n",
       "2   5.639820e-02  3.740025e-02  2.480184e-02  ...  1.090693e-02  7.232889e-03   \n",
       "3   2.651491e-02  1.578608e-02  9.398503e-03  ...  3.331404e-03  1.983406e-03   \n",
       "4   2.125218e-03  8.822750e-04  3.662726e-04  ...  6.312559e-05  2.620631e-05   \n",
       "..           ...           ...           ...  ...           ...           ...   \n",
       "95  3.466249e-04  1.110591e-04  3.558347e-05  ...  3.652891e-06  1.170391e-06   \n",
       "96  3.230126e-06  5.306672e-07  8.718165e-08  ...  2.353047e-09  3.865747e-10   \n",
       "97  1.807004e-01  1.415176e-01  1.108311e-01  ...  6.797735e-02  5.323724e-02   \n",
       "98  4.139039e-07  5.070235e-08  6.210929e-09  ...  9.319950e-11  1.141674e-11   \n",
       "99  4.158811e-02  2.640457e-02  1.676444e-02  ...  6.757852e-03  4.290606e-03   \n",
       "\n",
       "              13            14            15            16            17  \\\n",
       "0   1.488017e-08  3.719639e-09  9.298089e-10  2.324270e-10  5.810045e-11   \n",
       "1   1.783546e-15  1.308482e-16  9.599553e-18  7.042623e-19  5.166754e-20   \n",
       "2   4.796463e-03  3.180757e-03  2.109307e-03  1.398779e-03  9.275950e-04   \n",
       "3   1.180853e-03  7.030403e-04  4.185665e-04  2.492004e-04  1.483656e-04   \n",
       "4   1.087944e-05  4.516551e-06  1.875027e-06  7.784092e-07  3.231532e-07   \n",
       "..           ...           ...           ...           ...           ...   \n",
       "95  3.749948e-07  1.201488e-07  3.849584e-08  1.233412e-08  3.951866e-09   \n",
       "96  6.350914e-11  1.043372e-11  1.714122e-12  2.816077e-13  4.626444e-14   \n",
       "97  4.169335e-02  3.265262e-02  2.557228e-02  2.002722e-02  1.568455e-02   \n",
       "98  1.398526e-12  1.713165e-13  2.098590e-14  2.570728e-15  3.149087e-16   \n",
       "99  2.724134e-03  1.729571e-03  1.098116e-03  6.972012e-04  4.426577e-04   \n",
       "\n",
       "              18            19            20  \n",
       "0   1.452354e-11  3.630491e-12  9.075243e-13  \n",
       "1   3.790541e-21  2.780895e-22  2.040178e-23  \n",
       "2   6.151311e-04  4.079219e-04  2.705119e-04  \n",
       "3   8.833186e-05  5.258982e-05  3.131021e-05  \n",
       "4   1.341556e-07  5.569413e-08  2.312118e-08  \n",
       "..           ...           ...           ...  \n",
       "95  1.266183e-09  4.056867e-10  1.299825e-10  \n",
       "96  7.600639e-15  1.248685e-15  2.051425e-16  \n",
       "97  1.228353e-02  9.619988e-03  7.534004e-03  \n",
       "98  3.857564e-17  4.725434e-18  5.788555e-19  \n",
       "99  2.810463e-04  1.784382e-04  1.132916e-04  \n",
       "\n",
       "[100 rows x 21 columns]"
      ]
     },
     "execution_count": 16,
     "metadata": {},
     "output_type": "execute_result"
    }
   ],
   "source": [
    "polynomial_features_df = pd.DataFrame(x_train)\n",
    "polynomial_features_df"
   ]
  },
  {
   "cell_type": "code",
   "execution_count": 17,
   "metadata": {},
   "outputs": [
    {
     "name": "stdout",
     "output_type": "stream",
     "text": [
      "Correct! You earned 1.0/1 points. You are a star!\n",
      "\n",
      "Your submission has been successfully recorded in the gradebook.\n"
     ]
    }
   ],
   "source": [
    "grader.grade(test_case_id = 'test_poly_coefficients_setups', answer = polynomial_features_df)"
   ]
  },
  {
   "cell_type": "markdown",
   "metadata": {},
   "source": [
    "### A4. \n",
    "Calculate the training MSE and the test MSE for 20 polynomial models up to degree 20. Store these as lists named `mse_train` and `mse_test` respectively. Hint: Familiarize yourself with the `sklearn.metrics.mean_squared_error` package and try to automate the process, e.g., using a for loop with degrees going from 1 to 20."
   ]
  },
  {
   "cell_type": "code",
   "execution_count": 18,
   "metadata": {},
   "outputs": [],
   "source": [
    "mse_train = []\n",
    "mse_test = []\n",
    "\n",
    "for i in range(1,21):\n",
    "    poly = PolynomialFeatures(degree=i)\n",
    "    x_tr = poly.fit_transform(data[['x_tr']])\n",
    "    x_te = poly.fit_transform(data[['x_te']])\n",
    "    \n",
    "    model = LinearRegression()\n",
    "    model.fit(x_tr, data[['y_tr']])\n",
    "    \n",
    "    y_tr_pred = model.predict(x_tr)\n",
    "    y_te_pred = model.predict(x_te)\n",
    "    \n",
    "    mse_train.append(mean_squared_error(data[['y_tr']], y_tr_pred))\n",
    "    mse_test.append(mean_squared_error(data[['y_te']], y_te_pred))\n",
    "\n"
   ]
  },
  {
   "cell_type": "markdown",
   "metadata": {},
   "source": [
    "Run the grader cells for both `mse_train` and `mse_test` in order; please make sure you don't put the wrong cell in!"
   ]
  },
  {
   "cell_type": "code",
   "execution_count": 19,
   "metadata": {},
   "outputs": [
    {
     "name": "stdout",
     "output_type": "stream",
     "text": [
      "Correct! You earned 1.5/1.5 points. You are a star!\n",
      "\n",
      "Your submission has been successfully recorded in the gradebook.\n"
     ]
    }
   ],
   "source": [
    "grader.grade(test_case_id = 'test_mse_polynomials_train', answer = mse_train)"
   ]
  },
  {
   "cell_type": "code",
   "execution_count": 20,
   "metadata": {},
   "outputs": [
    {
     "name": "stdout",
     "output_type": "stream",
     "text": [
      "Correct! You earned 1.5/1.5 points. You are a star!\n",
      "\n",
      "Your submission has been successfully recorded in the gradebook.\n"
     ]
    }
   ],
   "source": [
    "grader.grade(test_case_id = 'test_mse_polynomials_test', answer = mse_test)"
   ]
  },
  {
   "cell_type": "markdown",
   "metadata": {},
   "source": [
    "### A5.\n",
    "\n",
    "Generate a plot of both the training MSE and test MSE against flexibility (polynomial degree) for degrees 1 to 20. \n",
    "\n",
    "Find the minimum training and testing MSEs and set them to `min_train_mse` and `min_test_mse` respectively."
   ]
  },
  {
   "cell_type": "code",
   "execution_count": 21,
   "metadata": {},
   "outputs": [
    {
     "data": {
      "text/plain": [
       "Text(0, 0.5, 'MSE')"
      ]
     },
     "execution_count": 21,
     "metadata": {},
     "output_type": "execute_result"
    },
    {
     "data": {
      "image/png": "[encoded data removed]",
      "text/plain": [
       "<Figure size 432x288 with 1 Axes>"
      ]
     },
     "metadata": {
      "needs_background": "light"
     },
     "output_type": "display_data"
    }
   ],
   "source": [
    "plt.plot(range(1,21), mse_train, 'o', color=red)\n",
    "plt.plot(range(1,21), mse_test, 'o', color=blue)\n",
    "plt.xlabel('Degree')\n",
    "plt.ylabel('MSE')"
   ]
  },
  {
   "cell_type": "code",
   "execution_count": 22,
   "metadata": {},
   "outputs": [],
   "source": [
    "min_train_mse = min(mse_train)\n",
    "min_test_mse = min(mse_test)"
   ]
  },
  {
   "cell_type": "code",
   "execution_count": 23,
   "metadata": {},
   "outputs": [
    {
     "name": "stdout",
     "output_type": "stream",
     "text": [
      "0.024833781487058403 0.03234864152603839\n"
     ]
    }
   ],
   "source": [
    "print(min_train_mse, min_test_mse)"
   ]
  },
  {
   "cell_type": "markdown",
   "metadata": {},
   "source": [
    "*Hint*: You should see the `min_train_mse < min_test_mse` since we have a bit of overfitting. Run the grader cell below! Each of the variables is worth 1 point; we assign points based on how close you are to the true answer"
   ]
  },
  {
   "cell_type": "code",
   "execution_count": 24,
   "metadata": {
    "scrolled": true
   },
   "outputs": [
    {
     "name": "stdout",
     "output_type": "stream",
     "text": [
      "Correct! You earned 2.0/2 points. You are a star!\n",
      "\n",
      "Your submission has been successfully recorded in the gradebook.\n"
     ]
    }
   ],
   "source": [
    "grader.grade(test_case_id = 'test_min_mses_test', answer = (min_train_mse, min_test_mse))"
   ]
  },
  {
   "cell_type": "markdown",
   "metadata": {},
   "source": [
    "### A6. \n",
    "From your plot, make an educated guess about the polynomial degree of the function that\n",
    "was used to generate the data. Then, give an estimate of the irreducible error $Var(\\epsilon)$ for the optimal model on both the training set and test set. \n",
    "\n",
    "*Hint*: The optimal model is obtained when we use the maximal degree polynomial that does not overfit. Revisit the section on hypothesis testing and think about the relationship between MSE, RSS, and RSE to calculate the irreducible error."
   ]
  },
  {
   "cell_type": "code",
   "execution_count": 25,
   "metadata": {},
   "outputs": [],
   "source": [
    "#From the plot, it looks like the polynomial degree of the function that was used to generate the data is 5.\n",
    "#var = sigma^2, RSE = sigma, MSE = 1/N * RSS,so RSS = MSE * N\n",
    "degree = 5\n",
    "N_train = len(data['x_tr'])\n",
    "N_test = len(data['x_te'])\n",
    "RSS_tr = min_train_mse * N_train\n",
    "RSS_te = min_test_mse * N_test\n",
    "# RSE_train_sq = RSS_tr / (N_train - degree - 1) \n",
    "RSE_train_sq = RSS_tr / (N_train - 20 - 1) \n",
    "RSE_test_sq = RSS_te / (N_test - degree - 1)\n"
   ]
  },
  {
   "cell_type": "markdown",
   "metadata": {},
   "source": [
    "Please set your respective irreducible errors as `RSE_train_sq` and `RSE_test_sq` respectively, and set the number of polynomial features as `degree`. Then, run the grader cell below. It grades similar to above, but we add 1 point for the `degree` variable!"
   ]
  },
  {
   "cell_type": "code",
   "execution_count": 26,
   "metadata": {},
   "outputs": [
    {
     "name": "stdout",
     "output_type": "stream",
     "text": [
      "Desired degree for best model:  5\n",
      "Irreducible error (training):  0.03143516643931443\n",
      "Irreducible error (test):  0.034413448431955734\n"
     ]
    }
   ],
   "source": [
    "print(\"Desired degree for best model: \", degree)\n",
    "print(\"Irreducible error (training): \", RSE_train_sq)\n",
    "print(\"Irreducible error (test): \", RSE_test_sq)"
   ]
  },
  {
   "cell_type": "code",
   "execution_count": 27,
   "metadata": {},
   "outputs": [
    {
     "name": "stdout",
     "output_type": "stream",
     "text": [
      "Correct! You earned 3.0/3 points. You are a star!\n",
      "\n",
      "Your submission has been successfully recorded in the gradebook.\n"
     ]
    }
   ],
   "source": [
    "grader.grade(test_case_id = 'test_irreducible', answer = (degree, RSE_train_sq, RSE_test_sq))"
   ]
  },
  {
   "cell_type": "markdown",
   "metadata": {},
   "source": [
    "## Part B\n",
    "\n",
    "Next, we will use the `Ch3PartB` dataset to observe the effects of collinearity using `statsmodels`.\n",
    "This dataset contains 100 observations of points $(x1, x2)$, and $y$, the response variable.\n",
    "\n",
    "### B1. \n",
    "Load the data from `Ch3PartB.csv` into a pandas DataFrame."
   ]
  },
  {
   "cell_type": "code",
   "execution_count": 28,
   "metadata": {},
   "outputs": [
    {
     "data": {
      "text/html": [
       "<div>\n",
       "<style scoped>\n",
       "    .dataframe tbody tr th:only-of-type {\n",
       "        vertical-align: middle;\n",
       "    }\n",
       "\n",
       "    .dataframe tbody tr th {\n",
       "        vertical-align: top;\n",
       "    }\n",
       "\n",
       "    .dataframe thead th {\n",
       "        text-align: right;\n",
       "    }\n",
       "</style>\n",
       "<table border=\"1\" class=\"dataframe\">\n",
       "  <thead>\n",
       "    <tr style=\"text-align: right;\">\n",
       "      <th></th>\n",
       "      <th>Unnamed: 0</th>\n",
       "      <th>x1</th>\n",
       "      <th>x2</th>\n",
       "      <th>y</th>\n",
       "    </tr>\n",
       "  </thead>\n",
       "  <tbody>\n",
       "    <tr>\n",
       "      <th>0</th>\n",
       "      <td>0</td>\n",
       "      <td>0.417022</td>\n",
       "      <td>0.240074</td>\n",
       "      <td>2.949735</td>\n",
       "    </tr>\n",
       "    <tr>\n",
       "      <th>1</th>\n",
       "      <td>1</td>\n",
       "      <td>0.720324</td>\n",
       "      <td>0.157942</td>\n",
       "      <td>3.261717</td>\n",
       "    </tr>\n",
       "    <tr>\n",
       "      <th>2</th>\n",
       "      <td>2</td>\n",
       "      <td>0.000114</td>\n",
       "      <td>-0.030563</td>\n",
       "      <td>3.322517</td>\n",
       "    </tr>\n",
       "    <tr>\n",
       "      <th>3</th>\n",
       "      <td>3</td>\n",
       "      <td>0.302333</td>\n",
       "      <td>0.233964</td>\n",
       "      <td>2.387546</td>\n",
       "    </tr>\n",
       "    <tr>\n",
       "      <th>4</th>\n",
       "      <td>4</td>\n",
       "      <td>0.146756</td>\n",
       "      <td>0.096387</td>\n",
       "      <td>3.002498</td>\n",
       "    </tr>\n",
       "    <tr>\n",
       "      <th>...</th>\n",
       "      <td>...</td>\n",
       "      <td>...</td>\n",
       "      <td>...</td>\n",
       "      <td>...</td>\n",
       "    </tr>\n",
       "    <tr>\n",
       "      <th>95</th>\n",
       "      <td>95</td>\n",
       "      <td>0.237027</td>\n",
       "      <td>-0.071123</td>\n",
       "      <td>1.719446</td>\n",
       "    </tr>\n",
       "    <tr>\n",
       "      <th>96</th>\n",
       "      <td>96</td>\n",
       "      <td>0.903380</td>\n",
       "      <td>0.386998</td>\n",
       "      <td>4.758863</td>\n",
       "    </tr>\n",
       "    <tr>\n",
       "      <th>97</th>\n",
       "      <td>97</td>\n",
       "      <td>0.573679</td>\n",
       "      <td>0.376988</td>\n",
       "      <td>4.803815</td>\n",
       "    </tr>\n",
       "    <tr>\n",
       "      <th>98</th>\n",
       "      <td>98</td>\n",
       "      <td>0.002870</td>\n",
       "      <td>0.254268</td>\n",
       "      <td>2.840827</td>\n",
       "    </tr>\n",
       "    <tr>\n",
       "      <th>99</th>\n",
       "      <td>99</td>\n",
       "      <td>0.617145</td>\n",
       "      <td>0.283709</td>\n",
       "      <td>4.204311</td>\n",
       "    </tr>\n",
       "  </tbody>\n",
       "</table>\n",
       "<p>100 rows × 4 columns</p>\n",
       "</div>"
      ],
      "text/plain": [
       "    Unnamed: 0        x1        x2         y\n",
       "0            0  0.417022  0.240074  2.949735\n",
       "1            1  0.720324  0.157942  3.261717\n",
       "2            2  0.000114 -0.030563  3.322517\n",
       "3            3  0.302333  0.233964  2.387546\n",
       "4            4  0.146756  0.096387  3.002498\n",
       "..         ...       ...       ...       ...\n",
       "95          95  0.237027 -0.071123  1.719446\n",
       "96          96  0.903380  0.386998  4.758863\n",
       "97          97  0.573679  0.376988  4.803815\n",
       "98          98  0.002870  0.254268  2.840827\n",
       "99          99  0.617145  0.283709  4.204311\n",
       "\n",
       "[100 rows x 4 columns]"
      ]
     },
     "execution_count": 28,
     "metadata": {},
     "output_type": "execute_result"
    }
   ],
   "source": [
    "dataB = pd.read_csv('Ch3PartB.csv')\n",
    "dataB"
   ]
  },
  {
   "cell_type": "markdown",
   "metadata": {},
   "source": [
    "### B2. \n",
    "Show a scatterplot displaying the relationship between $x1$ and $x2$ \n",
    "\n",
    "What is the correlation coefficient between $x1$ and $x2$? Compute the answer and store it as `correlation_variable` -- it should be a single floating-point number"
   ]
  },
  {
   "cell_type": "code",
   "execution_count": 29,
   "metadata": {},
   "outputs": [
    {
     "data": {
      "text/plain": [
       "[<matplotlib.lines.Line2D at 0x7ec89b118400>]"
      ]
     },
     "execution_count": 29,
     "metadata": {},
     "output_type": "execute_result"
    },
    {
     "data": {
      "image/png": "[encoded data removed]",
      "text/plain": [
       "<Figure size 432x288 with 1 Axes>"
      ]
     },
     "metadata": {
      "needs_background": "light"
     },
     "output_type": "display_data"
    }
   ],
   "source": [
    "plt.plot(dataB[['x1']], dataB[['x2']], 'o')"
   ]
  },
  {
   "cell_type": "code",
   "execution_count": 30,
   "metadata": {},
   "outputs": [
    {
     "name": "stdout",
     "output_type": "stream",
     "text": [
      "0.8390596222844913\n"
     ]
    }
   ],
   "source": [
    "correlation_variable = np.corrcoef(dataB['x1'], dataB['x2'])[0,1]\n",
    "print(correlation_variable)"
   ]
  },
  {
   "cell_type": "code",
   "execution_count": 31,
   "metadata": {},
   "outputs": [
    {
     "name": "stdout",
     "output_type": "stream",
     "text": [
      "Correct! You earned 0.5/0.5 points. You are a star!\n",
      "\n",
      "Your submission has been successfully recorded in the gradebook.\n"
     ]
    }
   ],
   "source": [
    "grader.grade(test_case_id = 'test_correlation', answer = correlation_variable)"
   ]
  },
  {
   "cell_type": "markdown",
   "metadata": {},
   "source": [
    "### B3. \n",
    "\n",
    "Using the data, fit a least squares regression to predict $y$ using $x1$ and $x2$. Describe your results in a Markdown cell. \n",
    "\n",
    "*Hint*: Familiarize yourself with `statsmodels.formula.api.ols`. \n",
    "\n",
    "We have several questions here as well:\n",
    "\n",
    "(a) What are the estimates $\\hat{\\beta_0}, \\hat{\\beta_1}, \\hat{\\beta_2}$?\n",
    "\n",
    "(b) At a 95% confidence level, can you reject the null hypothesis $H_0: \\beta_1 = 0$? \n",
    "\n",
    "(c) What about $H_0: \\beta_2 = 0$?"
   ]
  },
  {
   "cell_type": "code",
   "execution_count": 32,
   "metadata": {
    "scrolled": false
   },
   "outputs": [
    {
     "data": {
      "text/html": [
       "<table class=\"simpletable\">\n",
       "<caption>OLS Regression Results</caption>\n",
       "<tr>\n",
       "  <th>Dep. Variable:</th>            <td>y</td>        <th>  R-squared:         </th> <td>   0.261</td>\n",
       "</tr>\n",
       "<tr>\n",
       "  <th>Model:</th>                   <td>OLS</td>       <th>  Adj. R-squared:    </th> <td>   0.245</td>\n",
       "</tr>\n",
       "<tr>\n",
       "  <th>Method:</th>             <td>Least Squares</td>  <th>  F-statistic:       </th> <td>   17.09</td>\n",
       "</tr>\n",
       "<tr>\n",
       "  <th>Date:</th>             <td>Sat, 21 Sep 2024</td> <th>  Prob (F-statistic):</th> <td>4.40e-07</td>\n",
       "</tr>\n",
       "<tr>\n",
       "  <th>Time:</th>                 <td>17:11:14</td>     <th>  Log-Likelihood:    </th> <td> -142.34</td>\n",
       "</tr>\n",
       "<tr>\n",
       "  <th>No. Observations:</th>      <td>   100</td>      <th>  AIC:               </th> <td>   290.7</td>\n",
       "</tr>\n",
       "<tr>\n",
       "  <th>Df Residuals:</th>          <td>    97</td>      <th>  BIC:               </th> <td>   298.5</td>\n",
       "</tr>\n",
       "<tr>\n",
       "  <th>Df Model:</th>              <td>     2</td>      <th>                     </th>     <td> </td>   \n",
       "</tr>\n",
       "<tr>\n",
       "  <th>Covariance Type:</th>      <td>nonrobust</td>    <th>                     </th>     <td> </td>   \n",
       "</tr>\n",
       "</table>\n",
       "<table class=\"simpletable\">\n",
       "<tr>\n",
       "      <td></td>         <th>coef</th>     <th>std err</th>      <th>t</th>      <th>P>|t|</th>  <th>[0.025</th>    <th>0.975]</th>  \n",
       "</tr>\n",
       "<tr>\n",
       "  <th>Intercept</th> <td>    2.1893</td> <td>    0.199</td> <td>   11.021</td> <td> 0.000</td> <td>    1.795</td> <td>    2.584</td>\n",
       "</tr>\n",
       "<tr>\n",
       "  <th>x1</th>        <td>    0.7046</td> <td>    0.637</td> <td>    1.107</td> <td> 0.271</td> <td>   -0.559</td> <td>    1.968</td>\n",
       "</tr>\n",
       "<tr>\n",
       "  <th>x2</th>        <td>    2.5024</td> <td>    1.140</td> <td>    2.194</td> <td> 0.031</td> <td>    0.239</td> <td>    4.766</td>\n",
       "</tr>\n",
       "</table>\n",
       "<table class=\"simpletable\">\n",
       "<tr>\n",
       "  <th>Omnibus:</th>       <td> 0.607</td> <th>  Durbin-Watson:     </th> <td>   2.111</td>\n",
       "</tr>\n",
       "<tr>\n",
       "  <th>Prob(Omnibus):</th> <td> 0.738</td> <th>  Jarque-Bera (JB):  </th> <td>   0.577</td>\n",
       "</tr>\n",
       "<tr>\n",
       "  <th>Skew:</th>          <td>-0.179</td> <th>  Prob(JB):          </th> <td>   0.749</td>\n",
       "</tr>\n",
       "<tr>\n",
       "  <th>Kurtosis:</th>      <td> 2.900</td> <th>  Cond. No.          </th> <td>    14.3</td>\n",
       "</tr>\n",
       "</table><br/><br/>Notes:<br/>[1] Standard Errors assume that the covariance matrix of the errors is correctly specified."
      ],
      "text/plain": [
       "<class 'statsmodels.iolib.summary.Summary'>\n",
       "\"\"\"\n",
       "                            OLS Regression Results                            \n",
       "==============================================================================\n",
       "Dep. Variable:                      y   R-squared:                       0.261\n",
       "Model:                            OLS   Adj. R-squared:                  0.245\n",
       "Method:                 Least Squares   F-statistic:                     17.09\n",
       "Date:                Sat, 21 Sep 2024   Prob (F-statistic):           4.40e-07\n",
       "Time:                        17:11:14   Log-Likelihood:                -142.34\n",
       "No. Observations:                 100   AIC:                             290.7\n",
       "Df Residuals:                      97   BIC:                             298.5\n",
       "Df Model:                           2                                         \n",
       "Covariance Type:            nonrobust                                         \n",
       "==============================================================================\n",
       "                 coef    std err          t      P>|t|      [0.025      0.975]\n",
       "------------------------------------------------------------------------------\n",
       "Intercept      2.1893      0.199     11.021      0.000       1.795       2.584\n",
       "x1             0.7046      0.637      1.107      0.271      -0.559       1.968\n",
       "x2             2.5024      1.140      2.194      0.031       0.239       4.766\n",
       "==============================================================================\n",
       "Omnibus:                        0.607   Durbin-Watson:                   2.111\n",
       "Prob(Omnibus):                  0.738   Jarque-Bera (JB):                0.577\n",
       "Skew:                          -0.179   Prob(JB):                        0.749\n",
       "Kurtosis:                       2.900   Cond. No.                         14.3\n",
       "==============================================================================\n",
       "\n",
       "Notes:\n",
       "[1] Standard Errors assume that the covariance matrix of the errors is correctly specified.\n",
       "\"\"\""
      ]
     },
     "execution_count": 32,
     "metadata": {},
     "output_type": "execute_result"
    }
   ],
   "source": [
    "model = smf.ols('y~x1+x2',data=dataB).fit()\n",
    "model.summary()"
   ]
  },
  {
   "cell_type": "markdown",
   "metadata": {},
   "source": [
    "For your answers to $\\hat{\\beta_0}, \\hat{\\beta_1}, \\hat{\\beta_2}$, please input them either using code or typing the numbers from `statsmodels`' output into the variables below. You should include at least 4 digits after the decimal point."
   ]
  },
  {
   "cell_type": "code",
   "execution_count": 33,
   "metadata": {},
   "outputs": [],
   "source": [
    "beta_0 = 2.1893\n",
    "beta_1 = 0.7046\n",
    "beta_2 = 2.5024"
   ]
  },
  {
   "cell_type": "markdown",
   "metadata": {},
   "source": [
    "Please run but *do not change* the cell below to set up your autograder. Afterr, run the first grader cell with these variables! You will receive 0.5 points for each variable."
   ]
  },
  {
   "cell_type": "code",
   "execution_count": 34,
   "metadata": {},
   "outputs": [],
   "source": [
    "# DO NOT CHANGE THIS CELL!\n",
    "answer_dict = {\n",
    "    0: beta_0, \n",
    "    1: beta_1,\n",
    "    2: beta_2\n",
    "}"
   ]
  },
  {
   "cell_type": "code",
   "execution_count": 35,
   "metadata": {},
   "outputs": [
    {
     "name": "stdout",
     "output_type": "stream",
     "text": [
      "Correct! You earned 1.5/1.5 points. You are a star!\n",
      "\n",
      "Your submission has been successfully recorded in the gradebook.\n"
     ]
    }
   ],
   "source": [
    "grader.grade(test_case_id = 'test_betas', answer = answer_dict)"
   ]
  },
  {
   "cell_type": "markdown",
   "metadata": {},
   "source": [
    "Now, we want to evaluate the hypothesis test of $H_0: \\beta_1 = 0$ when both $x1$ and $x2$ are present.\n",
    "\n",
    "Please compute either the $t$-value or $p$-value and set it as `test_statistic_b1`, then determine whether or not you reject the null hypothesiss at the $95\\%$ confidence level. Set that variable as a boolean (`True/False`) as `reject_null_b1`. \n",
    "\n",
    "If your values are either incorrect or do not agree (i.e. you said the null would be rejected when it should not be), then you will not receive full points!\n",
    "\n",
    "You will receive 0.5 points for getting the correct statistics as well as 1 points for your in-context evaluation of the null hypothesis."
   ]
  },
  {
   "cell_type": "code",
   "execution_count": 36,
   "metadata": {},
   "outputs": [
    {
     "data": {
      "text/plain": [
       "Intercept    8.532403e-19\n",
       "x1           2.712146e-01\n",
       "x2           3.060418e-02\n",
       "dtype: float64"
      ]
     },
     "execution_count": 36,
     "metadata": {},
     "output_type": "execute_result"
    }
   ],
   "source": [
    "model.pvalues"
   ]
  },
  {
   "cell_type": "code",
   "execution_count": 37,
   "metadata": {},
   "outputs": [],
   "source": [
    "test_statistic_b1 = .2712 # use t or p, to at least 3 significant digits\n",
    "reject_null_b1 = False\n"
   ]
  },
  {
   "cell_type": "code",
   "execution_count": 38,
   "metadata": {},
   "outputs": [
    {
     "name": "stdout",
     "output_type": "stream",
     "text": [
      "Correct! You earned 1.5/1.5 points. You are a star!\n",
      "\n",
      "Your submission has been successfully recorded in the gradebook.\n"
     ]
    }
   ],
   "source": [
    "grader.grade(test_case_id = 'test_beta1_hypothesis', answer = (test_statistic_b1, reject_null_b1))"
   ]
  },
  {
   "cell_type": "markdown",
   "metadata": {},
   "source": [
    "Let's do the same for the other test, to evaluate the hypothesis test of $H_0: \\beta_2 = 0$  when both $x1$ and $x2$ are present.\n",
    "\n",
    "Please compute either the $t$-value or $p$-value and set it as `test_statistic_b2`, then determine whether or not you reject the null hypothesiss at the $95\\%$ confidence level. Set that variable as a boolean (`True/False`) as `reject_null_b2`\n",
    "\n",
    "You will receive 0.5 points for getting the correct statistics as well as 1 point for your in-context evaluation of the null hypothesis."
   ]
  },
  {
   "cell_type": "code",
   "execution_count": 39,
   "metadata": {},
   "outputs": [],
   "source": [
    "test_statistic_b2 = 0.030604 # use t or p, to at least 3 significant digits\n",
    "reject_null_b2 = True #0.05 > 0.030\n"
   ]
  },
  {
   "cell_type": "code",
   "execution_count": 40,
   "metadata": {},
   "outputs": [
    {
     "name": "stdout",
     "output_type": "stream",
     "text": [
      "Correct! You earned 1.5/1.5 points. You are a star!\n",
      "\n",
      "Your submission has been successfully recorded in the gradebook.\n"
     ]
    }
   ],
   "source": [
    "grader.grade(test_case_id = 'test_beta2_hypothesis', answer = (test_statistic_b2, reject_null_b2))"
   ]
  },
  {
   "cell_type": "markdown",
   "metadata": {},
   "source": [
    "### B4. \n",
    "\n",
    "Now fit a least squares regression to predict $y$ using only $x1$. Comment on your results.\n",
    "\n",
    "Can you reject the null hypothesis $H_0: \\beta_1 = 0$?"
   ]
  },
  {
   "cell_type": "code",
   "execution_count": 41,
   "metadata": {},
   "outputs": [
    {
     "data": {
      "text/html": [
       "<table class=\"simpletable\">\n",
       "<caption>OLS Regression Results</caption>\n",
       "<tr>\n",
       "  <th>Dep. Variable:</th>            <td>y</td>        <th>  R-squared:         </th> <td>   0.224</td>\n",
       "</tr>\n",
       "<tr>\n",
       "  <th>Model:</th>                   <td>OLS</td>       <th>  Adj. R-squared:    </th> <td>   0.216</td>\n",
       "</tr>\n",
       "<tr>\n",
       "  <th>Method:</th>             <td>Least Squares</td>  <th>  F-statistic:       </th> <td>   28.26</td>\n",
       "</tr>\n",
       "<tr>\n",
       "  <th>Date:</th>             <td>Sat, 21 Sep 2024</td> <th>  Prob (F-statistic):</th> <td>6.68e-07</td>\n",
       "</tr>\n",
       "<tr>\n",
       "  <th>Time:</th>                 <td>17:11:25</td>     <th>  Log-Likelihood:    </th> <td> -144.76</td>\n",
       "</tr>\n",
       "<tr>\n",
       "  <th>No. Observations:</th>      <td>   100</td>      <th>  AIC:               </th> <td>   293.5</td>\n",
       "</tr>\n",
       "<tr>\n",
       "  <th>Df Residuals:</th>          <td>    98</td>      <th>  BIC:               </th> <td>   298.7</td>\n",
       "</tr>\n",
       "<tr>\n",
       "  <th>Df Model:</th>              <td>     1</td>      <th>                     </th>     <td> </td>   \n",
       "</tr>\n",
       "<tr>\n",
       "  <th>Covariance Type:</th>      <td>nonrobust</td>    <th>                     </th>     <td> </td>   \n",
       "</tr>\n",
       "</table>\n",
       "<table class=\"simpletable\">\n",
       "<tr>\n",
       "      <td></td>         <th>coef</th>     <th>std err</th>      <th>t</th>      <th>P>|t|</th>  <th>[0.025</th>    <th>0.975]</th>  \n",
       "</tr>\n",
       "<tr>\n",
       "  <th>Intercept</th> <td>    2.2486</td> <td>    0.201</td> <td>   11.209</td> <td> 0.000</td> <td>    1.850</td> <td>    2.647</td>\n",
       "</tr>\n",
       "<tr>\n",
       "  <th>x1</th>        <td>    1.8770</td> <td>    0.353</td> <td>    5.316</td> <td> 0.000</td> <td>    1.176</td> <td>    2.578</td>\n",
       "</tr>\n",
       "</table>\n",
       "<table class=\"simpletable\">\n",
       "<tr>\n",
       "  <th>Omnibus:</th>       <td> 0.292</td> <th>  Durbin-Watson:     </th> <td>   2.123</td>\n",
       "</tr>\n",
       "<tr>\n",
       "  <th>Prob(Omnibus):</th> <td> 0.864</td> <th>  Jarque-Bera (JB):  </th> <td>   0.468</td>\n",
       "</tr>\n",
       "<tr>\n",
       "  <th>Skew:</th>          <td>-0.003</td> <th>  Prob(JB):          </th> <td>   0.791</td>\n",
       "</tr>\n",
       "<tr>\n",
       "  <th>Kurtosis:</th>      <td> 2.665</td> <th>  Cond. No.          </th> <td>    4.26</td>\n",
       "</tr>\n",
       "</table><br/><br/>Notes:<br/>[1] Standard Errors assume that the covariance matrix of the errors is correctly specified."
      ],
      "text/plain": [
       "<class 'statsmodels.iolib.summary.Summary'>\n",
       "\"\"\"\n",
       "                            OLS Regression Results                            \n",
       "==============================================================================\n",
       "Dep. Variable:                      y   R-squared:                       0.224\n",
       "Model:                            OLS   Adj. R-squared:                  0.216\n",
       "Method:                 Least Squares   F-statistic:                     28.26\n",
       "Date:                Sat, 21 Sep 2024   Prob (F-statistic):           6.68e-07\n",
       "Time:                        17:11:25   Log-Likelihood:                -144.76\n",
       "No. Observations:                 100   AIC:                             293.5\n",
       "Df Residuals:                      98   BIC:                             298.7\n",
       "Df Model:                           1                                         \n",
       "Covariance Type:            nonrobust                                         \n",
       "==============================================================================\n",
       "                 coef    std err          t      P>|t|      [0.025      0.975]\n",
       "------------------------------------------------------------------------------\n",
       "Intercept      2.2486      0.201     11.209      0.000       1.850       2.647\n",
       "x1             1.8770      0.353      5.316      0.000       1.176       2.578\n",
       "==============================================================================\n",
       "Omnibus:                        0.292   Durbin-Watson:                   2.123\n",
       "Prob(Omnibus):                  0.864   Jarque-Bera (JB):                0.468\n",
       "Skew:                          -0.003   Prob(JB):                        0.791\n",
       "Kurtosis:                       2.665   Cond. No.                         4.26\n",
       "==============================================================================\n",
       "\n",
       "Notes:\n",
       "[1] Standard Errors assume that the covariance matrix of the errors is correctly specified.\n",
       "\"\"\""
      ]
     },
     "execution_count": 41,
     "metadata": {},
     "output_type": "execute_result"
    }
   ],
   "source": [
    "model2 = smf.ols('y~x1', data=dataB).fit()\n",
    "model2.summary()"
   ]
  },
  {
   "cell_type": "markdown",
   "metadata": {},
   "source": [
    "When evaluating $H_0: \\beta_1 = 0$ when fitting with only $x1$ please do the following:\n",
    "\n",
    "- Please compute either the $t$-value or $p$-value and set it as `test_statistic_b4`\n",
    "- Determine whether or not you reject the null hypothesiss at the $95\\%$ confidence level; set that variable as a boolean (`True/False`) as `reject_null_b4`\n",
    "- Determine if $x1$ is significant; set that result as a boolean (`True/False`) as `is_x1_significant`\n",
    "\n",
    "Similar to previously, you'll receive points both for your test statistics and the evaluation."
   ]
  },
  {
   "cell_type": "code",
   "execution_count": 42,
   "metadata": {},
   "outputs": [
    {
     "data": {
      "text/plain": [
       "Intercept    11.209167\n",
       "x1            5.315681\n",
       "dtype: float64"
      ]
     },
     "execution_count": 42,
     "metadata": {},
     "output_type": "execute_result"
    }
   ],
   "source": [
    "model2.tvalues"
   ]
  },
  {
   "cell_type": "code",
   "execution_count": 43,
   "metadata": {},
   "outputs": [],
   "source": [
    "test_statistic_b4 = 5.3156 # use t or p, to at least 3 significant digits\n",
    "#t-statistic of 2 or higher is statistically significant, we can reject null hypothesis\n",
    "reject_b4_null_hypothesis = True\n",
    "is_x1_significant = True\n"
   ]
  },
  {
   "cell_type": "code",
   "execution_count": 44,
   "metadata": {},
   "outputs": [
    {
     "name": "stdout",
     "output_type": "stream",
     "text": [
      "Correct! You earned 1.5/1.5 points. You are a star!\n",
      "\n",
      "Your submission has been successfully recorded in the gradebook.\n"
     ]
    }
   ],
   "source": [
    "grader.grade(test_case_id = 'test_b4_x1_hypothesis', answer = (\n",
    "    test_statistic_b4, \n",
    "    reject_b4_null_hypothesis, \n",
    "    is_x1_significant)\n",
    ")"
   ]
  },
  {
   "cell_type": "markdown",
   "metadata": {},
   "source": [
    "### B5. \n",
    "\n",
    "Now fit a least squares regression to predict $y$ using only $x2$. Comment on your results.\n",
    "\n",
    "Can you reject the null hypothesis $H_0: \\beta_2 = 0$?"
   ]
  },
  {
   "cell_type": "code",
   "execution_count": 45,
   "metadata": {},
   "outputs": [
    {
     "data": {
      "text/html": [
       "<table class=\"simpletable\">\n",
       "<caption>OLS Regression Results</caption>\n",
       "<tr>\n",
       "  <th>Dep. Variable:</th>            <td>y</td>        <th>  R-squared:         </th> <td>   0.251</td>\n",
       "</tr>\n",
       "<tr>\n",
       "  <th>Model:</th>                   <td>OLS</td>       <th>  Adj. R-squared:    </th> <td>   0.244</td>\n",
       "</tr>\n",
       "<tr>\n",
       "  <th>Method:</th>             <td>Least Squares</td>  <th>  F-statistic:       </th> <td>   32.87</td>\n",
       "</tr>\n",
       "<tr>\n",
       "  <th>Date:</th>             <td>Sat, 21 Sep 2024</td> <th>  Prob (F-statistic):</th> <td>1.09e-07</td>\n",
       "</tr>\n",
       "<tr>\n",
       "  <th>Time:</th>                 <td>17:11:30</td>     <th>  Log-Likelihood:    </th> <td> -142.97</td>\n",
       "</tr>\n",
       "<tr>\n",
       "  <th>No. Observations:</th>      <td>   100</td>      <th>  AIC:               </th> <td>   289.9</td>\n",
       "</tr>\n",
       "<tr>\n",
       "  <th>Df Residuals:</th>          <td>    98</td>      <th>  BIC:               </th> <td>   295.1</td>\n",
       "</tr>\n",
       "<tr>\n",
       "  <th>Df Model:</th>              <td>     1</td>      <th>                     </th>     <td> </td>   \n",
       "</tr>\n",
       "<tr>\n",
       "  <th>Covariance Type:</th>      <td>nonrobust</td>    <th>                     </th>     <td> </td>   \n",
       "</tr>\n",
       "</table>\n",
       "<table class=\"simpletable\">\n",
       "<tr>\n",
       "      <td></td>         <th>coef</th>     <th>std err</th>      <th>t</th>      <th>P>|t|</th>  <th>[0.025</th>    <th>0.975]</th>  \n",
       "</tr>\n",
       "<tr>\n",
       "  <th>Intercept</th> <td>    2.2655</td> <td>    0.187</td> <td>   12.145</td> <td> 0.000</td> <td>    1.895</td> <td>    2.636</td>\n",
       "</tr>\n",
       "<tr>\n",
       "  <th>x2</th>        <td>    3.5613</td> <td>    0.621</td> <td>    5.733</td> <td> 0.000</td> <td>    2.329</td> <td>    4.794</td>\n",
       "</tr>\n",
       "</table>\n",
       "<table class=\"simpletable\">\n",
       "<tr>\n",
       "  <th>Omnibus:</th>       <td> 0.857</td> <th>  Durbin-Watson:     </th> <td>   2.117</td>\n",
       "</tr>\n",
       "<tr>\n",
       "  <th>Prob(Omnibus):</th> <td> 0.651</td> <th>  Jarque-Bera (JB):  </th> <td>   0.746</td>\n",
       "</tr>\n",
       "<tr>\n",
       "  <th>Skew:</th>          <td>-0.210</td> <th>  Prob(JB):          </th> <td>   0.689</td>\n",
       "</tr>\n",
       "<tr>\n",
       "  <th>Kurtosis:</th>      <td> 2.946</td> <th>  Cond. No.          </th> <td>    6.48</td>\n",
       "</tr>\n",
       "</table><br/><br/>Notes:<br/>[1] Standard Errors assume that the covariance matrix of the errors is correctly specified."
      ],
      "text/plain": [
       "<class 'statsmodels.iolib.summary.Summary'>\n",
       "\"\"\"\n",
       "                            OLS Regression Results                            \n",
       "==============================================================================\n",
       "Dep. Variable:                      y   R-squared:                       0.251\n",
       "Model:                            OLS   Adj. R-squared:                  0.244\n",
       "Method:                 Least Squares   F-statistic:                     32.87\n",
       "Date:                Sat, 21 Sep 2024   Prob (F-statistic):           1.09e-07\n",
       "Time:                        17:11:30   Log-Likelihood:                -142.97\n",
       "No. Observations:                 100   AIC:                             289.9\n",
       "Df Residuals:                      98   BIC:                             295.1\n",
       "Df Model:                           1                                         \n",
       "Covariance Type:            nonrobust                                         \n",
       "==============================================================================\n",
       "                 coef    std err          t      P>|t|      [0.025      0.975]\n",
       "------------------------------------------------------------------------------\n",
       "Intercept      2.2655      0.187     12.145      0.000       1.895       2.636\n",
       "x2             3.5613      0.621      5.733      0.000       2.329       4.794\n",
       "==============================================================================\n",
       "Omnibus:                        0.857   Durbin-Watson:                   2.117\n",
       "Prob(Omnibus):                  0.651   Jarque-Bera (JB):                0.746\n",
       "Skew:                          -0.210   Prob(JB):                        0.689\n",
       "Kurtosis:                       2.946   Cond. No.                         6.48\n",
       "==============================================================================\n",
       "\n",
       "Notes:\n",
       "[1] Standard Errors assume that the covariance matrix of the errors is correctly specified.\n",
       "\"\"\""
      ]
     },
     "execution_count": 45,
     "metadata": {},
     "output_type": "execute_result"
    }
   ],
   "source": [
    "model3 = smf.ols('y~x2', data=dataB).fit()\n",
    "model3.summary()"
   ]
  },
  {
   "cell_type": "markdown",
   "metadata": {},
   "source": [
    "When evaluating $H_0: \\beta_2 = 0$ when fitting with only $x1$ please do the following:\n",
    "\n",
    "- Please compute either the $t$-value or $p$-value and set it as `test_statistic_b5`\n",
    "- Determine whether or not you reject the null hypothesiss at the $95\\%$ confidence level; set that variable as a boolean (`True/False`) as `reject_null_b5`\n",
    "- Determine if $x2$ is significant; set that result as a boolean (`True/False`) as `is_x2_significant`\n",
    "\n",
    "Scoring is identical to B4 above!"
   ]
  },
  {
   "cell_type": "code",
   "execution_count": 46,
   "metadata": {},
   "outputs": [
    {
     "data": {
      "text/plain": [
       "Intercept    12.145167\n",
       "x2            5.733353\n",
       "dtype: float64"
      ]
     },
     "execution_count": 46,
     "metadata": {},
     "output_type": "execute_result"
    }
   ],
   "source": [
    "model3.tvalues"
   ]
  },
  {
   "cell_type": "code",
   "execution_count": 47,
   "metadata": {},
   "outputs": [],
   "source": [
    "test_statistic_b5 = 5.7333 # use t or p, to at least 3 significant digits\n",
    "#THe t-statisic is again bigger than 2 so it is significant.\n",
    "reject_b5_null_hypothesis = True\n",
    "is_x2_significant = True\n"
   ]
  },
  {
   "cell_type": "code",
   "execution_count": 48,
   "metadata": {},
   "outputs": [
    {
     "name": "stdout",
     "output_type": "stream",
     "text": [
      "Correct! You earned 1.5/1.5 points. You are a star!\n",
      "\n",
      "Your submission has been successfully recorded in the gradebook.\n"
     ]
    }
   ],
   "source": [
    "grader.grade(test_case_id = 'test_b5_x2_hypothesis', answer = (\n",
    "    test_statistic_b5, \n",
    "    reject_b5_null_hypothesis, \n",
    "    is_x2_significant)\n",
    ")"
   ]
  },
  {
   "cell_type": "markdown",
   "metadata": {},
   "source": [
    "### B6. \n",
    "\n",
    "Do Part B Questions 3-5 contradict each other? Explain why or why not. "
   ]
  },
  {
   "cell_type": "code",
   "execution_count": 49,
   "metadata": {},
   "outputs": [],
   "source": [
    "#The questions seem to contradict each other because beta_1 in the multiple regression was not significant. However, because of collinearity, these 2 predicters were closely related causing this reading."
   ]
  },
  {
   "cell_type": "markdown",
   "metadata": {},
   "source": [
    "Now, comment on the apparent contradiction below. Enter a boolean (`True/False`) for whether or not the answers contradict as `is_contradiction`, and then record your explanation into the multiline string named `contradiction_string` and then submit it to us via the grader cell!\n",
    "\n",
    "Please note that you'll need to have the right answer as well as have an explanation that has a reasonable set of keywords in order to get full credit!\n",
    "\n",
    "*Note*: if you have an explanation that you think is reasonable but you aren't passing the autograder, let us know on Piazza!"
   ]
  },
  {
   "cell_type": "code",
   "execution_count": 50,
   "metadata": {},
   "outputs": [],
   "source": [
    "is_contradiction = False\n",
    "contradiction_string = '''\n",
    "The questions seem to contradict each other because beta_1 in the multiple regression was not significant. However, this is false because of collinearity, these 2 predicters were closely related causing the variables to lose there statistical significance.\n",
    "'''\n"
   ]
  },
  {
   "cell_type": "code",
   "execution_count": 51,
   "metadata": {},
   "outputs": [
    {
     "name": "stdout",
     "output_type": "stream",
     "text": [
      "Correct! You earned 1/1 points. You are a star!\n",
      "\n",
      "Your submission has been successfully recorded in the gradebook.\n"
     ]
    }
   ],
   "source": [
    "grader.grade(test_case_id = 'test_contradiction_test', answer = (is_contradiction, contradiction_string))"
   ]
  },
  {
   "cell_type": "markdown",
   "metadata": {},
   "source": [
    "## Submit\n",
    "\n",
    "You're done! Please make sure you've run all the PennGrader cells and count up your score to be sure (there are 20 points in total) and then make sure to submit this on Codio."
   ]
  },
  {
   "cell_type": "code",
   "execution_count": null,
   "metadata": {},
   "outputs": [],
   "source": []
  }
 ],
 "metadata": {
  "kernelspec": {
   "display_name": "Python 3",
   "language": "python",
   "name": "python3"
  },
  "language_info": {
   "codemirror_mode": {
    "name": "ipython",
    "version": 3
   },
   "file_extension": ".py",
   "mimetype": "text/x-python",
   "name": "python",
   "nbconvert_exporter": "python",
   "pygments_lexer": "ipython3",
   "version": "3.6.8"
  }
 },
 "nbformat": 4,
 "nbformat_minor": 2
}
