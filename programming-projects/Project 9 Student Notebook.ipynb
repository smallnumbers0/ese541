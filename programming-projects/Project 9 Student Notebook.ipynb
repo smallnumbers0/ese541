{
 "cells": [
  {
   "cell_type": "markdown",
   "metadata": {},
   "source": [
    "# Project 9\n",
    "\n",
    "In the coding project below, answer any bolded questions on Canvas via the assigment named Programming Project 9 Quiz Questions.\n",
    "\n",
    "Please follow the instructions below (e.g., setting random state values) to ensure that your answers match the solutions.\n",
    "\n",
    "In this assignment, we will be using PennGrader, a Python package built by a former TA for autograding Python notebooks. PennGrader was developed to provide students with instant feedback on their answer. You can submit your answer and know whether it's right or wrong instantly. We then record your most recent answer in our backend database. You will have 100 attempts per test case, which should be more than sufficient.\n",
    "\n",
    "<b>NOTE：Please remember to remove the </b>\n",
    "\n",
    "```python\n",
    "raise notImplementedError\n",
    "```\n",
    "<b>after your implementation, otherwise the cell will not compile.</b>\n",
    "\n",
    "You currently work for a company that offers a subscription-based music streaming service. After an unsuccessful round of marketing efforts with low return on investments, your company is exploring other strategies to promote its services. Currently, its advertising strategy has been to bid on a set of keywords that someone on the marketing team put together, but the team has realized that they could improve on this strategy by refining the keywords based on different customer personas. Therefore, the company has asked you to help it identify a set of user segments so that the ads can be more customized. \n",
    "\n",
    "For this task, you have been provided with the Music data which contains sociodemographic and music preference data on 4,914 users and your goal is to identify clusters of users based on this information.\n",
    "\n",
    "| Column | Description |\n",
    "|:-|:-|\n",
    "| Age | Age of the user |\n",
    "| Gender | Gender of the user |\n",
    "| Employment status | Employment status of the user |\n",
    "| Annual income | Annual income of the user in USD |\n",
    "| Usage per month | Average usage per month of the user measured in minutes |\n",
    "| Top genre | The genre of music that is most streamed by the user |\n",
    "| Num of days active | The number of days in the last 365 days that the user used the service |\n",
    "\n"
   ]
  },
  {
   "cell_type": "markdown",
   "metadata": {},
   "source": [
    "## Getting Set Up\n",
    "Meet our old friend - PennGrader! Fill in the cell below with your PennID and then run the following cell to initialize the grader.\n",
    "\n",
    "<font color='red'>Warning:</font> Please make sure you only have one copy of the student notebook in your directory in Codio upon submission. The autograder looks for the variable `STUDENT_ID` across all notebooks, so if there is a duplicate notebook, it will fail."
   ]
  },
  {
   "cell_type": "code",
   "execution_count": 1,
   "metadata": {},
   "outputs": [],
   "source": [
    "#PLEASE ENSURE YOUR STUDENT_ID IS ENTERED AS AN INT (NOT A STRING). IF NOT, THE AUTOGRADER WON'T KNOW WHO \n",
    "#TO ASSIGN POINTS TO YOU IN OUR BACKEND\n",
    "\n",
    "STUDENT_ID = 56803282                  # YOUR 8-DIGIT PENNID GOES HERE\n",
    "STUDENT_NAME = \"Jacky Choi\"     # YOUR FULL NAME GOES HERE"
   ]
  },
  {
   "cell_type": "code",
   "execution_count": 2,
   "metadata": {},
   "outputs": [],
   "source": [
    "import penngrader.grader\n",
    "\n",
    "grader = penngrader.grader.PennGrader(homework_id = 'ESE542_Online_Su_2021_HW9', student_id = STUDENT_ID)"
   ]
  },
  {
   "cell_type": "code",
   "execution_count": 3,
   "metadata": {},
   "outputs": [],
   "source": [
    "# Let's import the relevant Python packages here\n",
    "# Feel free to import any other packages for this project\n",
    "\n",
    "#Data Wrangling\n",
    "import pandas as pd\n",
    "import numpy as np\n",
    "import matplotlib.pyplot as plt"
   ]
  },
  {
   "cell_type": "markdown",
   "metadata": {},
   "source": [
    "## Part A: Data Cleaning\n",
    "\n",
    "Throughout this course, you have mostly been provided with relatively clean datasets but in the real world, data is usually a lot messier. This could be caused by data logging errors, bugs in the pipeline or even erroneous human input in surveys. Some common approaches of dealing with these observations are by dropping them, replacing the erroneous values with the mean/median, winsorizing, etc. Here, we will just drop them. "
   ]
  },
  {
   "cell_type": "markdown",
   "metadata": {},
   "source": [
    "1. Load the Music data and drop any rows with `NaN/null` values. Assign the dataframe to the variable `music`."
   ]
  },
  {
   "cell_type": "code",
   "execution_count": 4,
   "metadata": {},
   "outputs": [],
   "source": [
    "music = pd.read_csv(\"music.csv\")\n",
    "music = music.dropna()"
   ]
  },
  {
   "cell_type": "code",
   "execution_count": 5,
   "metadata": {},
   "outputs": [
    {
     "name": "stdout",
     "output_type": "stream",
     "text": [
      "Correct! You earned 1/1 points. You are a star!\n",
      "\n",
      "Your submission has been successfully recorded in the gradebook.\n"
     ]
    }
   ],
   "source": [
    "grader.grade(test_case_id = 'test_read_music', answer = music.shape)"
   ]
  },
  {
   "cell_type": "markdown",
   "metadata": {},
   "source": [
    "2. Plot bar charts and histograms of the data to visualize the distributions. Does anything seem unusual? Good to think about: can you encapsulate plotting data into a function?\n",
    "\n",
    "    - Are there more male or female users? Store your answer in `male_or_female` ('M'/'F').\n",
    "    - Which genre is the most popular among users? Store your answer in `pop_genre`.\n",
    "    - How many users are students? Store you answer in `student_num`."
   ]
  },
  {
   "cell_type": "markdown",
   "metadata": {},
   "source": [
    "music"
   ]
  },
  {
   "cell_type": "code",
   "execution_count": 6,
   "metadata": {},
   "outputs": [
    {
     "data": {
      "text/html": [
       "<div>\n",
       "<style scoped>\n",
       "    .dataframe tbody tr th:only-of-type {\n",
       "        vertical-align: middle;\n",
       "    }\n",
       "\n",
       "    .dataframe tbody tr th {\n",
       "        vertical-align: top;\n",
       "    }\n",
       "\n",
       "    .dataframe thead th {\n",
       "        text-align: right;\n",
       "    }\n",
       "</style>\n",
       "<table border=\"1\" class=\"dataframe\">\n",
       "  <thead>\n",
       "    <tr style=\"text-align: right;\">\n",
       "      <th></th>\n",
       "      <th>age</th>\n",
       "      <th>gender</th>\n",
       "      <th>employment_status</th>\n",
       "      <th>annual_income</th>\n",
       "      <th>usage_per_month</th>\n",
       "      <th>top_genre</th>\n",
       "      <th>num_of_days_active</th>\n",
       "    </tr>\n",
       "  </thead>\n",
       "  <tbody>\n",
       "    <tr>\n",
       "      <th>0</th>\n",
       "      <td>20</td>\n",
       "      <td>Male</td>\n",
       "      <td>Employed full-time</td>\n",
       "      <td>115000</td>\n",
       "      <td>847</td>\n",
       "      <td>Rock</td>\n",
       "      <td>210</td>\n",
       "    </tr>\n",
       "    <tr>\n",
       "      <th>1</th>\n",
       "      <td>22</td>\n",
       "      <td>Male</td>\n",
       "      <td>Employed full-time</td>\n",
       "      <td>42100</td>\n",
       "      <td>256</td>\n",
       "      <td>Rock</td>\n",
       "      <td>222</td>\n",
       "    </tr>\n",
       "    <tr>\n",
       "      <th>2</th>\n",
       "      <td>18</td>\n",
       "      <td>Male</td>\n",
       "      <td>Employed full-time</td>\n",
       "      <td>114750</td>\n",
       "      <td>1232</td>\n",
       "      <td>Country</td>\n",
       "      <td>161</td>\n",
       "    </tr>\n",
       "    <tr>\n",
       "      <th>3</th>\n",
       "      <td>19</td>\n",
       "      <td>Female</td>\n",
       "      <td>Employed full-time</td>\n",
       "      <td>118250</td>\n",
       "      <td>2310</td>\n",
       "      <td>Rock</td>\n",
       "      <td>176</td>\n",
       "    </tr>\n",
       "    <tr>\n",
       "      <th>4</th>\n",
       "      <td>33</td>\n",
       "      <td>Male</td>\n",
       "      <td>Employed full-time</td>\n",
       "      <td>111450</td>\n",
       "      <td>568</td>\n",
       "      <td>Pop</td>\n",
       "      <td>185</td>\n",
       "    </tr>\n",
       "    <tr>\n",
       "      <th>...</th>\n",
       "      <td>...</td>\n",
       "      <td>...</td>\n",
       "      <td>...</td>\n",
       "      <td>...</td>\n",
       "      <td>...</td>\n",
       "      <td>...</td>\n",
       "      <td>...</td>\n",
       "    </tr>\n",
       "    <tr>\n",
       "      <th>4909</th>\n",
       "      <td>31</td>\n",
       "      <td>Female</td>\n",
       "      <td>Unemployed</td>\n",
       "      <td>17150</td>\n",
       "      <td>1291</td>\n",
       "      <td>Rock</td>\n",
       "      <td>220</td>\n",
       "    </tr>\n",
       "    <tr>\n",
       "      <th>4910</th>\n",
       "      <td>41</td>\n",
       "      <td>Male</td>\n",
       "      <td>Employed full-time</td>\n",
       "      <td>19150</td>\n",
       "      <td>905</td>\n",
       "      <td>Pop</td>\n",
       "      <td>166</td>\n",
       "    </tr>\n",
       "    <tr>\n",
       "      <th>4911</th>\n",
       "      <td>37</td>\n",
       "      <td>Male</td>\n",
       "      <td>Employed full-time</td>\n",
       "      <td>39000</td>\n",
       "      <td>535</td>\n",
       "      <td>Rock</td>\n",
       "      <td>203</td>\n",
       "    </tr>\n",
       "    <tr>\n",
       "      <th>4912</th>\n",
       "      <td>43</td>\n",
       "      <td>Female</td>\n",
       "      <td>Student</td>\n",
       "      <td>138800</td>\n",
       "      <td>13</td>\n",
       "      <td>Rock</td>\n",
       "      <td>126</td>\n",
       "    </tr>\n",
       "    <tr>\n",
       "      <th>4913</th>\n",
       "      <td>44</td>\n",
       "      <td>Male</td>\n",
       "      <td>Employed full-time</td>\n",
       "      <td>27000</td>\n",
       "      <td>1184</td>\n",
       "      <td>Pop</td>\n",
       "      <td>230</td>\n",
       "    </tr>\n",
       "  </tbody>\n",
       "</table>\n",
       "<p>4914 rows × 7 columns</p>\n",
       "</div>"
      ],
      "text/plain": [
       "      age  gender   employment_status  annual_income  usage_per_month  \\\n",
       "0      20    Male  Employed full-time         115000              847   \n",
       "1      22    Male  Employed full-time          42100              256   \n",
       "2      18    Male  Employed full-time         114750             1232   \n",
       "3      19  Female  Employed full-time         118250             2310   \n",
       "4      33    Male  Employed full-time         111450              568   \n",
       "...   ...     ...                 ...            ...              ...   \n",
       "4909   31  Female          Unemployed          17150             1291   \n",
       "4910   41    Male  Employed full-time          19150              905   \n",
       "4911   37    Male  Employed full-time          39000              535   \n",
       "4912   43  Female             Student         138800               13   \n",
       "4913   44    Male  Employed full-time          27000             1184   \n",
       "\n",
       "     top_genre  num_of_days_active  \n",
       "0         Rock                 210  \n",
       "1         Rock                 222  \n",
       "2      Country                 161  \n",
       "3         Rock                 176  \n",
       "4          Pop                 185  \n",
       "...        ...                 ...  \n",
       "4909      Rock                 220  \n",
       "4910       Pop                 166  \n",
       "4911      Rock                 203  \n",
       "4912      Rock                 126  \n",
       "4913       Pop                 230  \n",
       "\n",
       "[4914 rows x 7 columns]"
      ]
     },
     "execution_count": 6,
     "metadata": {},
     "output_type": "execute_result"
    }
   ],
   "source": [
    "music"
   ]
  },
  {
   "cell_type": "code",
   "execution_count": 7,
   "metadata": {},
   "outputs": [
    {
     "data": {
      "image/png": "[encoded data removed]",
      "text/plain": [
       "<Figure size 576x360 with 1 Axes>"
      ]
     },
     "metadata": {
      "needs_background": "light"
     },
     "output_type": "display_data"
    },
    {
     "name": "stdout",
     "output_type": "stream",
     "text": [
      "Male                 2482\n",
      "Female               2350\n",
      "Prefer not to say      60\n",
      "Other                  22\n",
      "Name: gender, dtype: int64\n"
     ]
    }
   ],
   "source": [
    "# Enter your code here\n",
    "gender_counts = music['gender'].value_counts()\n",
    "plt.figure(figsize=(8, 5))\n",
    "plt.bar(gender_counts.index, gender_counts.values, color=\"green\")\n",
    "plt.title(\"Gender Chart\")\n",
    "plt.xlabel(\"Gender\")\n",
    "plt.ylabel(\"Count\")\n",
    "plt.show()\n",
    "print(gender_counts)"
   ]
  },
  {
   "cell_type": "code",
   "execution_count": 8,
   "metadata": {},
   "outputs": [],
   "source": [
    "male_or_female = 'M'"
   ]
  },
  {
   "cell_type": "code",
   "execution_count": 9,
   "metadata": {},
   "outputs": [
    {
     "name": "stdout",
     "output_type": "stream",
     "text": [
      "Correct! You earned 1/1 points. You are a star!\n",
      "\n",
      "Your submission has been successfully recorded in the gradebook.\n"
     ]
    }
   ],
   "source": [
    "grader.grade(test_case_id = 'test_visual1', answer = male_or_female)"
   ]
  },
  {
   "cell_type": "code",
   "execution_count": 10,
   "metadata": {},
   "outputs": [
    {
     "data": {
      "image/png": "[encoded data removed]",
      "text/plain": [
       "<Figure size 576x360 with 1 Axes>"
      ]
     },
     "metadata": {
      "needs_background": "light"
     },
     "output_type": "display_data"
    },
    {
     "name": "stdout",
     "output_type": "stream",
     "text": [
      "Pop          2149\n",
      "Rock          835\n",
      "Classical     721\n",
      "Country       556\n",
      "Indie         289\n",
      "Jazz          265\n",
      "Hip Hop        99\n",
      "Name: top_genre, dtype: int64\n"
     ]
    }
   ],
   "source": [
    "genre_counts = music['top_genre'].value_counts()\n",
    "plt.figure(figsize=(8, 5))\n",
    "plt.bar(genre_counts.index, genre_counts.values, color=\"blue\")\n",
    "plt.title(\"Bar Chart of Top Genre\")\n",
    "plt.xlabel(\"Top Genre\")\n",
    "plt.ylabel(\"Count\")\n",
    "plt.xticks(rotation=45)\n",
    "plt.show()\n",
    "print(genre_counts)"
   ]
  },
  {
   "cell_type": "code",
   "execution_count": 11,
   "metadata": {},
   "outputs": [],
   "source": [
    "pop_genre = 'Pop'"
   ]
  },
  {
   "cell_type": "code",
   "execution_count": 12,
   "metadata": {},
   "outputs": [
    {
     "name": "stdout",
     "output_type": "stream",
     "text": [
      "Correct! You earned 1/1 points. You are a star!\n",
      "\n",
      "Your submission has been successfully recorded in the gradebook.\n"
     ]
    }
   ],
   "source": [
    "grader.grade(test_case_id = 'test_visual2', answer = pop_genre)"
   ]
  },
  {
   "cell_type": "code",
   "execution_count": 13,
   "metadata": {},
   "outputs": [
    {
     "name": "stdout",
     "output_type": "stream",
     "text": [
      "Employed full-time    3037\n",
      "Student               1000\n",
      "Employed part-time     513\n",
      "Unemployed             364\n",
      "Name: employment_status, dtype: int64\n"
     ]
    }
   ],
   "source": [
    "employment_counts = music['employment_status'].value_counts()\n",
    "print(employment_counts)"
   ]
  },
  {
   "cell_type": "code",
   "execution_count": 14,
   "metadata": {},
   "outputs": [],
   "source": [
    "student_num = 1000"
   ]
  },
  {
   "cell_type": "code",
   "execution_count": 15,
   "metadata": {},
   "outputs": [
    {
     "name": "stdout",
     "output_type": "stream",
     "text": [
      "Correct! You earned 1/1 points. You are a star!\n",
      "\n",
      "Your submission has been successfully recorded in the gradebook.\n"
     ]
    }
   ],
   "source": [
    "grader.grade(test_case_id = 'test_visual3', answer = student_num)"
   ]
  },
  {
   "cell_type": "markdown",
   "metadata": {},
   "source": [
    "3. Take a closer look at ‘age’ and ‘num of days active’. Does anything look peculiar? Store the number of invalid 'age' in `bad_age_num`, invalid number of 'num of days active' in `bad_active_num`. Drop these rows and also assign the new dataframe to the variable `music`. *Hint*: Recall the values that age and number of days active can take on."
   ]
  },
  {
   "cell_type": "code",
   "execution_count": 16,
   "metadata": {},
   "outputs": [
    {
     "name": "stdout",
     "output_type": "stream",
     "text": [
      "<class 'pandas.core.frame.DataFrame'>\n",
      "Int64Index: 4914 entries, 0 to 4913\n",
      "Data columns (total 7 columns):\n",
      "age                   4914 non-null int64\n",
      "gender                4914 non-null object\n",
      "employment_status     4914 non-null object\n",
      "annual_income         4914 non-null int64\n",
      "usage_per_month       4914 non-null int64\n",
      "top_genre             4914 non-null object\n",
      "num_of_days_active    4914 non-null int64\n",
      "dtypes: int64(4), object(3)\n",
      "memory usage: 307.1+ KB\n"
     ]
    }
   ],
   "source": [
    "music.info()"
   ]
  },
  {
   "cell_type": "code",
   "execution_count": null,
   "metadata": {},
   "outputs": [],
   "source": []
  },
  {
   "cell_type": "code",
   "execution_count": 17,
   "metadata": {},
   "outputs": [
    {
     "name": "stdout",
     "output_type": "stream",
     "text": [
      "5\n"
     ]
    }
   ],
   "source": [
    "# Enter your code here\n",
    "bad_age_num = ((music['age'] < 0) | (music['age'] > 100)).sum()\n",
    "print(bad_age_num)"
   ]
  },
  {
   "cell_type": "code",
   "execution_count": 18,
   "metadata": {},
   "outputs": [
    {
     "name": "stdout",
     "output_type": "stream",
     "text": [
      "Correct! You earned 2/2 points. You are a star!\n",
      "\n",
      "Your submission has been successfully recorded in the gradebook.\n"
     ]
    }
   ],
   "source": [
    "grader.grade(test_case_id = 'test_drop1', answer = bad_age_num)"
   ]
  },
  {
   "cell_type": "code",
   "execution_count": 19,
   "metadata": {},
   "outputs": [
    {
     "name": "stdout",
     "output_type": "stream",
     "text": [
      "2\n"
     ]
    }
   ],
   "source": [
    "# Enter your code here\n",
    "bad_active_num = ((music['num_of_days_active'] < 0) | (music['num_of_days_active'] > 365)).sum()\n",
    "print(bad_active_num)\n"
   ]
  },
  {
   "cell_type": "code",
   "execution_count": 20,
   "metadata": {},
   "outputs": [
    {
     "name": "stdout",
     "output_type": "stream",
     "text": [
      "Correct! You earned 2/2 points. You are a star!\n",
      "\n",
      "Your submission has been successfully recorded in the gradebook.\n"
     ]
    }
   ],
   "source": [
    "grader.grade(test_case_id = 'test_drop2', answer = bad_active_num)"
   ]
  },
  {
   "cell_type": "code",
   "execution_count": 21,
   "metadata": {},
   "outputs": [],
   "source": [
    "# Drop rows with invalid entries in-place\n",
    "music = music[\n",
    "    (music['age'] >= 0) & \n",
    "    (music['age'] <= 100) & \n",
    "    (music['num_of_days_active'] >= 0) & \n",
    "    (music['num_of_days_active'] <= 365)\n",
    "]\n"
   ]
  },
  {
   "cell_type": "code",
   "execution_count": 22,
   "metadata": {},
   "outputs": [
    {
     "name": "stdout",
     "output_type": "stream",
     "text": [
      "Correct! You earned 2/2 points. You are a star!\n",
      "\n",
      "Your submission has been successfully recorded in the gradebook.\n"
     ]
    }
   ],
   "source": [
    "grader.grade(test_case_id = 'test_drop3', answer = music.shape)"
   ]
  },
  {
   "cell_type": "markdown",
   "metadata": {},
   "source": [
    "## Part B: Clustering\n",
    "\n",
    "Use K-means clustering to find a set of user groups using the following features as inputs: ‘age’, ‘annual income’, ‘usage per month’ and ‘number of days active’."
   ]
  },
  {
   "cell_type": "markdown",
   "metadata": {},
   "source": [
    "1. Standardize the data. *Hint*: `sklearn.preprocessing.scale` may be helpful. "
   ]
  },
  {
   "cell_type": "code",
   "execution_count": 23,
   "metadata": {},
   "outputs": [],
   "source": [
    "from sklearn.preprocessing import StandardScaler\n",
    "X = music[['age', 'annual_income', 'usage_per_month', 'num_of_days_active']]\n",
    "scaler = StandardScaler()\n",
    "X_scaled = scaler.fit_transform(X)\n",
    "\n"
   ]
  },
  {
   "cell_type": "code",
   "execution_count": null,
   "metadata": {},
   "outputs": [
    {
     "name": "stdout",
     "output_type": "stream",
     "text": [
      "Correct! You earned 2/2 points. You are a star!\n",
      "\n",
      "Your submission has been successfully recorded in the gradebook.\n"
     ]
    }
   ],
   "source": [
    "grader.grade(test_case_id = 'test_scale', answer = X_scaled)"
   ]
  },
  {
   "cell_type": "markdown",
   "metadata": {},
   "source": [
    "2. Calculate the sum of squared distances of observations to their closest cluster center for $K\\in [1,10]$ and add these values to a list called `ssd`. Use the default hyperparameters and set `random_state=42`. Store the minimum value of ssd in `min_ssd`. Comment on your thoughts: shall we choose the model with minimum ssd?\n",
    "\n",
    "*Hint*: You may want to write a for-loop and refer to the [`sklearn.cluster.KMeans`](https://scikit-learn.org/stable/modules/generated/sklearn.cluster.KMeans.html) documentation (read through the Attributes section)."
   ]
  },
  {
   "cell_type": "code",
   "execution_count": null,
   "metadata": {},
   "outputs": [],
   "source": [
    "from sklearn.cluster import KMeans\n"
   ]
  },
  {
   "cell_type": "code",
   "execution_count": null,
   "metadata": {},
   "outputs": [],
   "source": [
    "# Enter your code here\n",
    "ssd = []\n",
    "\n",
    "for k in range(1, 11):\n",
    "    kmeans = KMeans(n_clusters=k, random_state=42)  \n",
    "    kmeans.fit(X_scaled)  \n",
    "    ssd.append(kmeans.inertia_)\n",
    "\n",
    "min_ssd = 6009\n"
   ]
  },
  {
   "cell_type": "code",
   "execution_count": null,
   "metadata": {},
   "outputs": [],
   "source": [
    "grader.grade(test_case_id = 'test_min_ssd', answer = min_ssd)"
   ]
  },
  {
   "cell_type": "markdown",
   "metadata": {},
   "source": [
    "3. Plot the values in `ssd` against the number of clusters, $K$ for $K\\in[1,10]$. "
   ]
  },
  {
   "cell_type": "code",
   "execution_count": null,
   "metadata": {},
   "outputs": [],
   "source": [
    "# Plot your ssd here\n",
    "plt.figure(figsize=(10, 6))\n",
    "plt.plot(range(1, 11), ssd, marker='o', linestyle='-', color='blue')\n",
    "plt.title(\"Sum of Squared Distances (SSD) vs. Number of Clusters (K)\")\n",
    "plt.xlabel(\"Number of Clusters (K)\")\n",
    "plt.ylabel(\"Sum of Squared Distances (SSD)\")\n",
    "plt.xticks(range(1, 11))\n",
    "plt.show()"
   ]
  },
  {
   "cell_type": "markdown",
   "metadata": {},
   "source": [
    "4. Based on this plot, what is the best number of clusters to set using the Elbow Method? The Elbow Method is the point where diminishing returns are no longer worth the additional cost. It will be the point before which the later points taper off or increase by very little. (More information on the Elbow Method can be found [here](https://en.wikipedia.org/wiki/Elbow_method_(clustering)#:~:text=In\\%20cluster\\%20analysis\\%2C\\%20the\\%20elbow,number\\%20of\\%20clusters\\%20to\\%20use). Assign this value to the variable `optimal_K` (There might be multiple optimal k values, just enter one of those)."
   ]
  },
  {
   "cell_type": "code",
   "execution_count": null,
   "metadata": {},
   "outputs": [],
   "source": [
    "optimal_K = 4"
   ]
  },
  {
   "cell_type": "code",
   "execution_count": null,
   "metadata": {},
   "outputs": [],
   "source": [
    "grader.grade(test_case_id = 'test_best_K', answer = optimal_K)"
   ]
  },
  {
   "cell_type": "markdown",
   "metadata": {},
   "source": [
    "6. Retrain the K-means clustering algorithm with `n_clusters=optimal_K`. This will be your final model. Name your model `best_kmeans` and set `random_state=42`."
   ]
  },
  {
   "cell_type": "code",
   "execution_count": null,
   "metadata": {},
   "outputs": [],
   "source": [
    "best_kmeans = KMeans(n_clusters=4, random_state=42)\n",
    "best_kmeans.fit(X_scaled)\n"
   ]
  },
  {
   "cell_type": "code",
   "execution_count": null,
   "metadata": {},
   "outputs": [],
   "source": [
    "print(best_kmeans)"
   ]
  },
  {
   "cell_type": "code",
   "execution_count": null,
   "metadata": {},
   "outputs": [],
   "source": [
    "grader.grade(test_case_id = 'test_best_model', answer = (optimal_K, best_kmeans.cluster_centers_))"
   ]
  },
  {
   "cell_type": "markdown",
   "metadata": {},
   "source": [
    "## Part C: Visualizing\n",
    "\n",
    "As a data scientist, it is important to be able to translate your findings to colleagues who may not have the same level of technical knowledge as you do; visualizations help a lot! Therefore, you have decided to plot the clusters. However, since there are four dimensions that you want to plot – age, annual income, usage per month and number of days active – you will need to utilize dimensionality reduction techniques to be able to plot this on a 2-D plane."
   ]
  },
  {
   "cell_type": "markdown",
   "metadata": {},
   "source": [
    "1. Train another K-means model using the following features as inputs: `age`, `annual income`,\n",
    "`usage per month` and `number of days active`. Fit your model on `X_scaled`, name your predicted result as `pred`. Use `n_clusters=2` and `random_state=42`. "
   ]
  },
  {
   "cell_type": "code",
   "execution_count": null,
   "metadata": {},
   "outputs": [],
   "source": [
    "# Enter your code here\n",
    "\n",
    "kmeans_2 = KMeans(n_clusters=2, random_state=42)\n",
    "kmeans_2.fit(X_scaled) \n",
    "pred = kmeans_2.predict(X_scaled) \n",
    "pred\n"
   ]
  },
  {
   "cell_type": "code",
   "execution_count": null,
   "metadata": {},
   "outputs": [],
   "source": [
    "grader.grade(test_case_id = 'test_kmeans_plot', answer = pred)"
   ]
  },
  {
   "cell_type": "markdown",
   "metadata": {},
   "source": [
    "2. Find the first <b>two</b> principal components of the scaled data and save the new data to variable `X_reduced`. Name your model `pca`.\n",
    "\n",
    "*Hint*: Use `sklearn.decomposition.PCA` with `random_state=42`."
   ]
  },
  {
   "cell_type": "code",
   "execution_count": null,
   "metadata": {},
   "outputs": [],
   "source": [
    "from sklearn.decomposition import PCA\n",
    "pca = PCA(n_components =2, random_state = 42)\n",
    "\n",
    "X_reduced = pca.fit_transform(X_scaled)\n"
   ]
  },
  {
   "cell_type": "code",
   "execution_count": null,
   "metadata": {},
   "outputs": [],
   "source": [
    "grader.grade(test_case_id = 'test_pca', answer = (pca.n_features_, pca.n_components_))"
   ]
  },
  {
   "cell_type": "markdown",
   "metadata": {},
   "source": [
    "3. Plot a scatterplot with the $1^{st}$ principal component on the $x$-axis and the $2^{nd}$ principal component on the $y$-axis. Color each point by the cluster that it is in from (1). Comment on yout observations.\n",
    "\n",
    "*Hint*: Check out `seaborn.FacetGrid`. To use it, you will need your principle components and predicted clusters in one dataframe."
   ]
  },
  {
   "cell_type": "code",
   "execution_count": null,
   "metadata": {},
   "outputs": [],
   "source": [
    "# Enter your code here\n",
    "import seaborn as sns\n",
    "pca_df = pd.DataFrame(X_reduced, columns=['PCA1', 'PCA2'])  # DataFrame with the 1st and 2nd principal components\n",
    "pca_df['Cluster'] = pred\n",
    "plt.figure(figsize=(8, 6))\n",
    "sns.scatterplot(data=pca_df, x='PCA1', y='PCA2', hue='Cluster', palette='viridis', s=100, alpha=0.6)\n",
    "plt.title(\"PCA of Scaled Data with K-means Clusters\")\n",
    "plt.xlabel(\"1st Principal Component\")\n",
    "plt.ylabel(\"2nd Principal Component\")\n",
    "plt.legend(title='Cluster')\n",
    "plt.show()"
   ]
  },
  {
   "cell_type": "code",
   "execution_count": null,
   "metadata": {},
   "outputs": [],
   "source": []
  },
  {
   "cell_type": "code",
   "execution_count": null,
   "metadata": {},
   "outputs": [],
   "source": []
  }
 ],
 "metadata": {
  "kernelspec": {
   "display_name": "Python 3",
   "language": "python",
   "name": "python3"
  },
  "language_info": {
   "codemirror_mode": {
    "name": "ipython",
    "version": 3
   },
   "file_extension": ".py",
   "mimetype": "text/x-python",
   "name": "python",
   "nbconvert_exporter": "python",
   "pygments_lexer": "ipython3",
   "version": "3.6.8"
  }
 },
 "nbformat": 4,
 "nbformat_minor": 4
}
