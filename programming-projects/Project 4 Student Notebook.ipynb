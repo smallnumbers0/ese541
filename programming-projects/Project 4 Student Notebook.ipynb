{
 "cells": [
  {
   "cell_type": "markdown",
   "metadata": {},
   "source": [
    "# Project 4\n",
    "\n",
    "In addition to answering the bolded questions on Coursera, also attach your notebook, both as `.ipynb` and `.html`.\n",
    "\n",
    "This project should be answered using the `Weekly` data set (attached). This data contains 1,089\n",
    "weekly stock market percentage returns for 21 years, from the beginning of 1990 to the end of 2010.\n",
    "\n",
    "Details about the columns in the data are summarized below:\n",
    "\n",
    "- `Year` : The year that the observation was recorded\n",
    "- `Lag1` : Percentage return for previous week\n",
    "- `Lag2` : Percentage return for 2 weeks previous\n",
    "- `Lag3` : Percentage return for 3 weeks previous\n",
    "- `Lag4` : Percentage return for 4 weeks previous\n",
    "- `Lag5` : Percentage return for 5 weeks previous\n",
    "- `Volume` : Volume of shares traded (average number of daily shares traded in billions)\n",
    "- `Today` : Percentage return for this week\n",
    "- `Direction` : A factor with levels Down and Up indicating whether the market had a positive or negative return on a given week\n",
    "\n",
    "In this assignment, we will be using PennGrader, a Python package built by a former TA for autograding Python notebooks. PennGrader was developed to provide students with instant feedback on their answer. You can submit your answer and know whether it's right or wrong instantly. We then record your most recent answer in our backend database. You will have 100 attempts per test case, which should be more than sufficient.\n",
    "\n",
    "<b>NOTE：Please remember to remove the </b>\n",
    "\n",
    "```python\n",
    "raise notImplementedError\n",
    "```\n",
    "<b>after your implementation, otherwise the cell will not compile.</b>"
   ]
  },
  {
   "cell_type": "markdown",
   "metadata": {},
   "source": [
    "## Getting Setup\n",
    "Please run the below cells to get setup with the autograder. If you need to install packages, please copy these lines into the Terminal!"
   ]
  },
  {
   "cell_type": "code",
   "execution_count": 1,
   "metadata": {},
   "outputs": [],
   "source": [
    "# !pip install pandas==1.0.5 --user\n",
    "# pip install penngrader --user"
   ]
  },
  {
   "cell_type": "code",
   "execution_count": 2,
   "metadata": {},
   "outputs": [],
   "source": [
    "# pip install seaborn --user\n",
    "# pip install scikit-learn --user\n",
    "# pip install statsmodels --user"
   ]
  },
  {
   "cell_type": "markdown",
   "metadata": {},
   "source": [
    "Let's try PennGrader out! Fill in the cell below with your PennID and then run the following cell to initialize the grader.\n",
    "\n",
    "<font color='red'>Warning:</font> Please make sure you only have one copy of the student notebook in your directory in Codio upon submission. The autograder looks for the variable `STUDENT_ID` across all notebooks, so if there is a duplicate notebook, it will fail."
   ]
  },
  {
   "cell_type": "code",
   "execution_count": 3,
   "metadata": {},
   "outputs": [],
   "source": [
    "#PLEASE ENSURE YOUR STUDENT_ID IS ENTERED AS AN INT (NOT A STRING). IF NOT, THE AUTOGRADER WON'T KNOW WHO \n",
    "#TO ASSIGN POINTS TO YOU IN OUR BACKEND\n",
    "\n",
    "STUDENT_ID = 56803282                   # YOUR 8-DIGIT PENNID GOES HERE\n",
    "STUDENT_NAME = \"Jacky Choi\"     # YOUR FULL NAME GOES HERE"
   ]
  },
  {
   "cell_type": "code",
   "execution_count": 4,
   "metadata": {},
   "outputs": [],
   "source": [
    "import penngrader.grader\n",
    "\n",
    "grader = penngrader.grader.PennGrader(homework_id = 'ESE542_Online_Su_2021_HW4', student_id = STUDENT_ID)"
   ]
  },
  {
   "cell_type": "code",
   "execution_count": 5,
   "metadata": {},
   "outputs": [],
   "source": [
    "# Let's import the relevant Python packages here\n",
    "# Feel free to import any other packages for this project\n",
    "\n",
    "# Data Wrangling\n",
    "import pandas as pd\n",
    "import numpy as np\n",
    "\n",
    "# Statistics\n",
    "import statsmodels.formula.api as smf\n",
    "import statsmodels.api as sm\n",
    "\n",
    "# Plotting\n",
    "import matplotlib.pyplot as plt\n",
    "\n",
    "%matplotlib inline"
   ]
  },
  {
   "cell_type": "markdown",
   "metadata": {},
   "source": [
    "We're also going to run a quick (0-point) check that the pandas version set up here is correct. If you fail this, please open a Terminal window and run `pip install pandas==1.0.5 --user`. If the updates do not take effect immediately, you can hit Kernel --> Restart for the Codio virtual machine to restart the notebook. Keep in mind that Codio is running on the external machines, not your local resources. "
   ]
  },
  {
   "cell_type": "code",
   "execution_count": 6,
   "metadata": {},
   "outputs": [
    {
     "ename": "SyntaxError",
     "evalue": "invalid syntax (<ipython-input-6-3c043c6323bd>, line 1)",
     "output_type": "error",
     "traceback": [
      "\u001b[0;36m  File \u001b[0;32m\"<ipython-input-6-3c043c6323bd>\"\u001b[0;36m, line \u001b[0;32m1\u001b[0m\n\u001b[0;31m    pip install pandas==1.0.5 --user\u001b[0m\n\u001b[0m              ^\u001b[0m\n\u001b[0;31mSyntaxError\u001b[0m\u001b[0;31m:\u001b[0m invalid syntax\n"
     ]
    }
   ],
   "source": [
    "pip install pandas==1.0.5 --user\n",
    "grader.grade(test_case_id = 'A0_pandas_test', answer = str(pd.__version__))"
   ]
  },
  {
   "cell_type": "code",
   "execution_count": null,
   "metadata": {},
   "outputs": [],
   "source": [
    "print(pd.__version__) "
   ]
  },
  {
   "cell_type": "markdown",
   "metadata": {},
   "source": [
    "## Part A\n",
    "\n",
    "We are first interested in trying to predict the direction of the returns.\n",
    "\n",
    "To start, load `Weekly.csv` into your notebook."
   ]
  },
  {
   "cell_type": "code",
   "execution_count": null,
   "metadata": {},
   "outputs": [],
   "source": [
    "weekly = pd.read_csv('Weekly.csv')\n",
    "weekly.Direction.dtype"
   ]
  },
  {
   "cell_type": "code",
   "execution_count": null,
   "metadata": {},
   "outputs": [],
   "source": [
    "grader.grade(test_case_id = 'A0_weekly_test', answer = weekly)"
   ]
  },
  {
   "cell_type": "markdown",
   "metadata": {},
   "source": [
    "### A1.\n",
    "\n",
    "First, transform our `Direction` variable into a numerical feature that is equal to 1 if `Direction = Up`. Then, pass the dataframe into the test case to make sure it's working properly!"
   ]
  },
  {
   "cell_type": "code",
   "execution_count": null,
   "metadata": {},
   "outputs": [],
   "source": [
    "weekly['Direction'] = weekly['Direction'].apply(lambda x: 1 if x == 'Up' else 0)\n",
    "weekly"
   ]
  },
  {
   "cell_type": "code",
   "execution_count": null,
   "metadata": {},
   "outputs": [],
   "source": [
    "grader.grade(test_case_id = 'A1_direction_test', answer = weekly)"
   ]
  },
  {
   "cell_type": "markdown",
   "metadata": {},
   "source": [
    "Produce some numerical and graphical summaries of the `Weekly` data. Do there appear to be any patterns?"
   ]
  },
  {
   "cell_type": "code",
   "execution_count": null,
   "metadata": {},
   "outputs": [],
   "source": [
    "yearly = weekly[['Year', 'Volume']]\n",
    "yearly = yearly.groupby('Year')\n",
    "yearlydf = yearly.agg({'Volume': 'sum'}).reset_index()\n",
    "yearlydf\n"
   ]
  },
  {
   "cell_type": "code",
   "execution_count": null,
   "metadata": {},
   "outputs": [],
   "source": [
    "x = np.array(yearlydf['Year'])\n",
    "y = np.array(yearlydf['Volume'])\n",
    "plt.plot(x,y)"
   ]
  },
  {
   "cell_type": "markdown",
   "metadata": {},
   "source": [
    "Include a brief description of what relationshipis and correlations you find."
   ]
  },
  {
   "cell_type": "code",
   "execution_count": null,
   "metadata": {},
   "outputs": [],
   "source": [
    "axes = pd.plotting.scatter_matrix(weekly)\n",
    "#V"
   ]
  },
  {
   "cell_type": "code",
   "execution_count": null,
   "metadata": {},
   "outputs": [],
   "source": [
    "weekly.corr()"
   ]
  },
  {
   "cell_type": "code",
   "execution_count": null,
   "metadata": {},
   "outputs": [],
   "source": [
    "relationships = '''\n",
    "As the year approaches 2000s, stocks had a dramatic increase in volume.\n",
    "'''\n",
    "\n"
   ]
  },
  {
   "cell_type": "code",
   "execution_count": null,
   "metadata": {},
   "outputs": [],
   "source": [
    "grader.grade(test_case_id = 'A1_relationships_test', answer = relationships)"
   ]
  },
  {
   "cell_type": "markdown",
   "metadata": {},
   "source": [
    "### A2.\n",
    "\n",
    "Use the full data set to perform a logistic regression with `Direction` as the response and the\n",
    "five lag variables as predictors."
   ]
  },
  {
   "cell_type": "code",
   "execution_count": null,
   "metadata": {
    "scrolled": false
   },
   "outputs": [],
   "source": [
    "log1 = smf.glm('Direction~Lag1+Lag2+Lag3+Lag4+Lag5+Volume', data = weekly, family = sm.families.Binomial()).fit()\n",
    "print(log1.summary())"
   ]
  },
  {
   "cell_type": "markdown",
   "metadata": {},
   "source": [
    "Pass in the regression equation to `logit_equation` below. Hint: You do not need the coefficients of the equation yet, just which variables you want to include in the model. Your answer should look something like `Response~Var1+Var2` which is the input for `statsmodels.formula.api`. "
   ]
  },
  {
   "cell_type": "code",
   "execution_count": null,
   "metadata": {},
   "outputs": [],
   "source": [
    "logit_equation = 'Direction+Lag1+Lag2+Lag3+Lag4+Lag5'\n"
   ]
  },
  {
   "cell_type": "code",
   "execution_count": null,
   "metadata": {},
   "outputs": [],
   "source": [
    "grader.grade(test_case_id = 'A2_logit_test', answer = logit_equation)"
   ]
  },
  {
   "cell_type": "markdown",
   "metadata": {},
   "source": [
    "### A3.\n",
    "\n",
    "Use the `summary()` function to print the results. Do any of the predictors appear to be\n",
    "statistically significant? Which predictors appear to be statistically significant?"
   ]
  },
  {
   "cell_type": "code",
   "execution_count": null,
   "metadata": {},
   "outputs": [],
   "source": [
    "print(log1.summary())"
   ]
  },
  {
   "cell_type": "markdown",
   "metadata": {},
   "source": [
    "Type the number of apparently significant variables into `num_significant` and the names of the variables into the list `var_significant` -- the test case will only give points if both variables are correct!"
   ]
  },
  {
   "cell_type": "code",
   "execution_count": null,
   "metadata": {},
   "outputs": [],
   "source": [
    "num_significant = 1\n",
    "var_significant = ['Lag2'] # This should be a list!\n",
    "#Lag2 is the only significant because it has an absolute z stat of >= 2"
   ]
  },
  {
   "cell_type": "code",
   "execution_count": null,
   "metadata": {},
   "outputs": [],
   "source": [
    "grader.grade(test_case_id = 'A3_significant_test', answer = (num_significant, var_significant))"
   ]
  },
  {
   "cell_type": "markdown",
   "metadata": {},
   "source": [
    "### A4. \n",
    "Compute the overall fraction of correct predictions. Name this variable `fraction_correct_all`.\n",
    "What is the overall fraction of correct predictions?"
   ]
  },
  {
   "cell_type": "code",
   "execution_count": null,
   "metadata": {},
   "outputs": [],
   "source": [
    "pred = log1.predict(weekly)\n",
    "predicted = [1 if prob > 0.5 else 0 for prob in pred]\n",
    "fraction_correct_all = (predicted == weekly['Direction']).mean()\n",
    "#0.5 since its a binary logistic regression"
   ]
  },
  {
   "cell_type": "code",
   "execution_count": null,
   "metadata": {},
   "outputs": [],
   "source": [
    "print(f'Overall fraction of correct predictions is {fraction_correct_all}')"
   ]
  },
  {
   "cell_type": "code",
   "execution_count": null,
   "metadata": {},
   "outputs": [],
   "source": [
    "grader.grade(test_case_id = 'A4_fraction_test', answer = fraction_correct_all)"
   ]
  },
  {
   "cell_type": "markdown",
   "metadata": {},
   "source": [
    "### A5.\n",
    "\n",
    "Now fit the logistic regression model using a training data period from 1990 to 2007, with\n",
    "`Lag2` as the only predictor. \n",
    "\n",
    "Compute the overall fraction of correct predictions for the held\n",
    "out data (that is, the data from 2008, 2009 and 2010) and assign it to a variable called\n",
    "`fraction_correct_test`. What is the overall fraction of correct predictions?"
   ]
  },
  {
   "cell_type": "code",
   "execution_count": null,
   "metadata": {},
   "outputs": [],
   "source": [
    "# Train and test split\n",
    "train = weekly[(weekly['Year'] >= 1990) & (weekly['Year'] <= 2007)]\n",
    "test = weekly[(weekly['Year'] >= 2008) & (weekly['Year'] <= 2010)]\n",
    "\n",
    "# Model \n",
    "model = smf.glm('Direction~+Lag2', data = train, family = sm.families.Binomial()).fit()\n",
    "\n",
    "pred = model.predict(test)\n",
    "predictions = [1 if prob > 0.5 else 0 for prob in pred]\n"
   ]
  },
  {
   "cell_type": "code",
   "execution_count": null,
   "metadata": {},
   "outputs": [],
   "source": [
    "fraction_correct_test = (predictions == test['Direction']).mean()"
   ]
  },
  {
   "cell_type": "code",
   "execution_count": null,
   "metadata": {},
   "outputs": [],
   "source": [
    "print(f'Overall fraction of correct predictions is {fraction_correct_test}')"
   ]
  },
  {
   "cell_type": "markdown",
   "metadata": {},
   "source": [
    "Pass in the train and test datasets to make sure that they're working (feel free to rename the variables in the test case), and then run the test for `fraction_correct_test`!"
   ]
  },
  {
   "cell_type": "code",
   "execution_count": null,
   "metadata": {},
   "outputs": [],
   "source": [
    "grader.grade(test_case_id = 'A5_df_test', answer = (train, test)) "
   ]
  },
  {
   "cell_type": "code",
   "execution_count": null,
   "metadata": {},
   "outputs": [],
   "source": [
    "grader.grade(test_case_id = 'A5_fraction_correct_test', answer = fraction_correct_test) "
   ]
  },
  {
   "cell_type": "markdown",
   "metadata": {},
   "source": [
    "## Part B\n",
    "\n",
    "Now, we want to develop an investment strategy in which we buy if the returns are greater than\n",
    "$0.5\\%$ and sell otherwise.\n",
    "\n",
    "### B1. \n",
    "Create a response variable called `Response` such that\n",
    "\n",
    "$$\n",
    "\\text{Response}_i = \\begin{cases}\n",
    "1 \\text{ if Today } > 0.5 &\\\\\n",
    "0 \\text{ otherwise }\n",
    "\\end{cases}\n",
    "$$"
   ]
  },
  {
   "cell_type": "code",
   "execution_count": null,
   "metadata": {},
   "outputs": [],
   "source": [
    "weekly['Response'] = weekly['Today'] > 0.5"
   ]
  },
  {
   "cell_type": "code",
   "execution_count": null,
   "metadata": {},
   "outputs": [],
   "source": [
    "grader.grade(test_case_id = 'B1_response_test', answer = weekly)"
   ]
  },
  {
   "cell_type": "markdown",
   "metadata": {},
   "source": [
    "### B2.\n",
    "Fit a logistic regression model to predict `Response` using a training data period from 1990 to 2008, with the five\n",
    "lag variables and volume as predictors."
   ]
  },
  {
   "cell_type": "code",
   "execution_count": null,
   "metadata": {},
   "outputs": [],
   "source": [
    "train = weekly[(weekly['Year'] >= 1990) & (weekly['Year'] <=2008)]\n",
    "res_model = smf.glm('Response~Lag1+Lag2+Lag3+Lag4+Lag5+Volume', data = train, family = sm.families.Binomial()).fit()"
   ]
  },
  {
   "cell_type": "markdown",
   "metadata": {},
   "source": [
    "Pass in the regression equation to `logit_equation_B` below"
   ]
  },
  {
   "cell_type": "code",
   "execution_count": null,
   "metadata": {},
   "outputs": [],
   "source": [
    "logit_equation_B = 'Response+Lag1+Lag2+Lag3+Lag4+Lag5+Volume'\n"
   ]
  },
  {
   "cell_type": "code",
   "execution_count": null,
   "metadata": {},
   "outputs": [],
   "source": [
    "grader.grade(test_case_id = 'B2_logit_test', answer = logit_equation_B)"
   ]
  },
  {
   "cell_type": "markdown",
   "metadata": {},
   "source": [
    "### B3.\n",
    "\n",
    "Use the `summary()` function to print the results. Do any of the predictors appear to be\n",
    "statistically significant? Which predictors appear to be statistically significant?"
   ]
  },
  {
   "cell_type": "code",
   "execution_count": null,
   "metadata": {
    "scrolled": false
   },
   "outputs": [],
   "source": [
    "res_model.summary()"
   ]
  },
  {
   "cell_type": "markdown",
   "metadata": {},
   "source": [
    "Type the number of apparently significant variables into `num_significant_B` and the names of the variables into the list `var_significant_B` -- the test case will only give points if both variables are correct!"
   ]
  },
  {
   "cell_type": "code",
   "execution_count": null,
   "metadata": {},
   "outputs": [],
   "source": [
    "num_significant_B = 1\n",
    "var_significant_B = ['Lag1'] # This has to be a list!\n"
   ]
  },
  {
   "cell_type": "code",
   "execution_count": null,
   "metadata": {},
   "outputs": [],
   "source": [
    "grader.grade(test_case_id = 'B3_significant_test', answer = (num_significant_B, var_significant_B))"
   ]
  },
  {
   "cell_type": "markdown",
   "metadata": {},
   "source": [
    "### B4. \n",
    "\n",
    "Compute the overall fraction of correct predictions for the held out data (that is, the data\n",
    "from 2009 and 2010). Assign this value to the variable `fraction_correct`. What is the\n",
    "overall fraction of correct predictions?"
   ]
  },
  {
   "cell_type": "code",
   "execution_count": null,
   "metadata": {},
   "outputs": [],
   "source": [
    "test = weekly[(weekly['Year'] >= 2009) & (weekly['Year'] <=2010)]\n",
    "pred = res_model.predict(test)\n",
    "prediction = [1 if prob > 0.5 else 0 for prob in pred]\n",
    "fraction_correct = (prediction == test['Response']).mean()"
   ]
  },
  {
   "cell_type": "code",
   "execution_count": null,
   "metadata": {},
   "outputs": [],
   "source": [
    "print(f'Overall fraction of correct predictions is {fraction_correct}')"
   ]
  },
  {
   "cell_type": "code",
   "execution_count": null,
   "metadata": {},
   "outputs": [],
   "source": [
    "grader.grade(test_case_id = 'B4_fraction_test', answer = fraction_correct)"
   ]
  },
  {
   "cell_type": "markdown",
   "metadata": {},
   "source": [
    "## Submit\n",
    "\n",
    "You're done! Please make sure you've run all the PennGrader cells and count up your score to be sure (there are 20 points in total) and then make sure to submit this on Codio."
   ]
  },
  {
   "cell_type": "code",
   "execution_count": null,
   "metadata": {},
   "outputs": [],
   "source": []
  }
 ],
 "metadata": {
  "kernelspec": {
   "display_name": "Python 3",
   "language": "python",
   "name": "python3"
  },
  "language_info": {
   "codemirror_mode": {
    "name": "ipython",
    "version": 3
   },
   "file_extension": ".py",
   "mimetype": "text/x-python",
   "name": "python",
   "nbconvert_exporter": "python",
   "pygments_lexer": "ipython3",
   "version": "3.6.8"
  }
 },
 "nbformat": 4,
 "nbformat_minor": 2
}
